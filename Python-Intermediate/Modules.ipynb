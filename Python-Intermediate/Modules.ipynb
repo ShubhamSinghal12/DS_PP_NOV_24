{
 "cells": [
  {
   "cell_type": "markdown",
   "id": "87a068ad-466d-4e1c-895f-215858b38257",
   "metadata": {},
   "source": [
    "## Various Functions\n",
    "- abs\n",
    "- all\n",
    "- dir\n",
    "- divmod\n",
    "- enumerate\n",
    "- filter\n",
    "- isinstance\n",
    "- map\n",
    "- reduce -- in python3 from functools import reduce\n",
    "- sorted\n",
    "\n",
    "## Modules\n",
    "- How to make and import module\n",
    "- Alias and filtered import\n",
    "- from module_name import *\n",
    "- Memory Management\n",
    "- For efficienncy sake, each module is imported once per interpreter session. Therefore, if you can change your modules, you must restart the interpreter.\n",
    "- OS module\n",
    "\n",
    "## The module name is available in the \\_\\_name__ global variable\n",
    "\\_\\_name__ is a built-in variable which evaluates to the name of the current module.\n",
    "\n",
    "- when a module script is executed as a source file the value of \\_\\_name__ var is \\_\\_main__\n",
    "- if a script is executed as a Module \\_\\_name__ holds the name of the module\n",
    "\n",
    "## Executing module as a script\n"
   ]
  },
  {
   "cell_type": "code",
   "execution_count": 1,
   "id": "66418124-ba2f-4309-9a24-1c2781dd41f7",
   "metadata": {},
   "outputs": [
    {
     "name": "stdout",
     "output_type": "stream",
     "text": [
      "Hello I am Calculator\n"
     ]
    }
   ],
   "source": [
    "import calculator"
   ]
  },
  {
   "cell_type": "code",
   "execution_count": 2,
   "id": "9339b6f4-58b3-411f-a297-183242740532",
   "metadata": {},
   "outputs": [
    {
     "data": {
      "text/plain": [
       "30"
      ]
     },
     "execution_count": 2,
     "metadata": {},
     "output_type": "execute_result"
    }
   ],
   "source": [
    "calculator.add(10,20)"
   ]
  },
  {
   "cell_type": "code",
   "execution_count": 3,
   "id": "137aba27-8f47-492a-95df-9c0a40612ee8",
   "metadata": {},
   "outputs": [
    {
     "data": {
      "text/plain": [
       "3.14"
      ]
     },
     "execution_count": 3,
     "metadata": {},
     "output_type": "execute_result"
    }
   ],
   "source": [
    "calculator.PI"
   ]
  },
  {
   "cell_type": "code",
   "execution_count": 5,
   "id": "3b05c084-1b8a-4901-99f5-b225035bf012",
   "metadata": {},
   "outputs": [
    {
     "data": {
      "text/plain": [
       "10"
      ]
     },
     "execution_count": 5,
     "metadata": {},
     "output_type": "execute_result"
    }
   ],
   "source": [
    "obj = calculator.A(10)\n",
    "obj.x"
   ]
  },
  {
   "cell_type": "code",
   "execution_count": 1,
   "id": "8c6ed4a4-30bd-4560-8567-40e1f7741950",
   "metadata": {},
   "outputs": [
    {
     "name": "stdout",
     "output_type": "stream",
     "text": [
      "Hello I am Calculator\n"
     ]
    }
   ],
   "source": [
    "import calculator as cal"
   ]
  },
  {
   "cell_type": "code",
   "execution_count": 2,
   "id": "c44445eb-5b40-4649-903b-4e37d1fda746",
   "metadata": {},
   "outputs": [
    {
     "data": {
      "text/plain": [
       "30"
      ]
     },
     "execution_count": 2,
     "metadata": {},
     "output_type": "execute_result"
    }
   ],
   "source": [
    "cal.add(10,20)"
   ]
  },
  {
   "cell_type": "code",
   "execution_count": 3,
   "id": "0960b746-30d4-434a-9dce-bdc9404bb24d",
   "metadata": {},
   "outputs": [
    {
     "ename": "NameError",
     "evalue": "name 'calculator' is not defined",
     "output_type": "error",
     "traceback": [
      "\u001b[1;31m---------------------------------------------------------------------------\u001b[0m",
      "\u001b[1;31mNameError\u001b[0m                                 Traceback (most recent call last)",
      "Cell \u001b[1;32mIn[3], line 1\u001b[0m\n\u001b[1;32m----> 1\u001b[0m \u001b[43mcalculator\u001b[49m\u001b[38;5;241m.\u001b[39madd(\u001b[38;5;241m10\u001b[39m,\u001b[38;5;241m20\u001b[39m)\n",
      "\u001b[1;31mNameError\u001b[0m: name 'calculator' is not defined"
     ]
    }
   ],
   "source": [
    "calculator.add(10,20)"
   ]
  },
  {
   "cell_type": "code",
   "execution_count": 4,
   "id": "f4a56414-e9e8-4ff0-a748-5514c4120f04",
   "metadata": {},
   "outputs": [],
   "source": [
    "import calculator"
   ]
  },
  {
   "cell_type": "code",
   "execution_count": 5,
   "id": "5f595d86-9d34-4b0f-9234-bf2cea01d0e0",
   "metadata": {},
   "outputs": [
    {
     "data": {
      "text/plain": [
       "30"
      ]
     },
     "execution_count": 5,
     "metadata": {},
     "output_type": "execute_result"
    }
   ],
   "source": [
    "cal.add(10,20)"
   ]
  },
  {
   "cell_type": "code",
   "execution_count": null,
   "id": "0c213228-8ba8-47b3-85b8-5ecbff84c2a8",
   "metadata": {},
   "outputs": [],
   "source": []
  },
  {
   "cell_type": "code",
   "execution_count": 1,
   "id": "554a8661-0d11-4ec1-ac56-aadd9e9b8f79",
   "metadata": {},
   "outputs": [
    {
     "name": "stdout",
     "output_type": "stream",
     "text": [
      "Hello I am Calculator\n"
     ]
    }
   ],
   "source": [
    "from calculator import add\n",
    "from calculator import (\n",
    "                multiply as prod, \n",
    "                PI as pi)"
   ]
  },
  {
   "cell_type": "code",
   "execution_count": 2,
   "id": "d0c675ef-0033-4f4b-a17e-08e79ed5e960",
   "metadata": {},
   "outputs": [
    {
     "data": {
      "text/plain": [
       "30"
      ]
     },
     "execution_count": 2,
     "metadata": {},
     "output_type": "execute_result"
    }
   ],
   "source": [
    "add(10,20)"
   ]
  },
  {
   "cell_type": "code",
   "execution_count": 4,
   "id": "df5face4-97ec-44f1-af42-eaef51d35fad",
   "metadata": {},
   "outputs": [
    {
     "data": {
      "text/plain": [
       "200"
      ]
     },
     "execution_count": 4,
     "metadata": {},
     "output_type": "execute_result"
    }
   ],
   "source": [
    "prod(10,20)"
   ]
  },
  {
   "cell_type": "code",
   "execution_count": 6,
   "id": "1f3023e0-2e49-4d0b-baac-cae4c0411106",
   "metadata": {},
   "outputs": [
    {
     "data": {
      "text/plain": [
       "3.14"
      ]
     },
     "execution_count": 6,
     "metadata": {},
     "output_type": "execute_result"
    }
   ],
   "source": [
    "pi"
   ]
  },
  {
   "cell_type": "code",
   "execution_count": 7,
   "id": "9014c32a-4dd1-46aa-9701-b9aa440ebf2f",
   "metadata": {},
   "outputs": [],
   "source": [
    "from calculator import *"
   ]
  },
  {
   "cell_type": "code",
   "execution_count": 8,
   "id": "a319981c-17f2-4035-8e81-b6999fc4d169",
   "metadata": {},
   "outputs": [
    {
     "data": {
      "text/plain": [
       "30"
      ]
     },
     "execution_count": 8,
     "metadata": {},
     "output_type": "execute_result"
    }
   ],
   "source": [
    "add(10,20)"
   ]
  },
  {
   "cell_type": "code",
   "execution_count": 9,
   "id": "cf417f28-51ce-417d-9211-9e9c1056c09b",
   "metadata": {},
   "outputs": [
    {
     "data": {
      "text/plain": [
       "-10"
      ]
     },
     "execution_count": 9,
     "metadata": {},
     "output_type": "execute_result"
    }
   ],
   "source": [
    "subtract(10,20)"
   ]
  },
  {
   "cell_type": "code",
   "execution_count": 1,
   "id": "6d619c81-2771-428f-956d-2c7aa0f63c88",
   "metadata": {},
   "outputs": [
    {
     "name": "stdout",
     "output_type": "stream",
     "text": [
      "Hello I am Calculator\n"
     ]
    }
   ],
   "source": [
    "import calculator"
   ]
  },
  {
   "cell_type": "code",
   "execution_count": 2,
   "id": "09850e9d-b5bd-4f24-afc1-6f1437a1017d",
   "metadata": {},
   "outputs": [
    {
     "data": {
      "text/plain": [
       "200"
      ]
     },
     "execution_count": 2,
     "metadata": {},
     "output_type": "execute_result"
    }
   ],
   "source": [
    "calculator.CONSTANT"
   ]
  },
  {
   "cell_type": "code",
   "execution_count": 3,
   "id": "5609c17f-21ad-461f-afb6-a99541a2dde0",
   "metadata": {},
   "outputs": [
    {
     "data": {
      "text/plain": [
       "['A',\n",
       " 'CONSTANT',\n",
       " 'PI',\n",
       " 'X',\n",
       " '__builtins__',\n",
       " '__cached__',\n",
       " '__doc__',\n",
       " '__file__',\n",
       " '__loader__',\n",
       " '__name__',\n",
       " '__package__',\n",
       " '__spec__',\n",
       " 'add',\n",
       " 'divide',\n",
       " 'multiply',\n",
       " 'subtract']"
      ]
     },
     "execution_count": 3,
     "metadata": {},
     "output_type": "execute_result"
    }
   ],
   "source": [
    "dir(calculator)"
   ]
  },
  {
   "cell_type": "code",
   "execution_count": 4,
   "id": "b3edccfb-f211-4262-a295-cbd8bcbbf99a",
   "metadata": {},
   "outputs": [
    {
     "data": {
      "text/plain": [
       "'calculator'"
      ]
     },
     "execution_count": 4,
     "metadata": {},
     "output_type": "execute_result"
    }
   ],
   "source": [
    "calculator.__name__"
   ]
  },
  {
   "cell_type": "code",
   "execution_count": 1,
   "id": "2f7ce4a6-f9e9-4572-87bc-86d50fd7649a",
   "metadata": {},
   "outputs": [
    {
     "name": "stdout",
     "output_type": "stream",
     "text": [
      "Hello I am Calculator Module\n"
     ]
    },
    {
     "data": {
      "text/plain": [
       "'calculator'"
      ]
     },
     "execution_count": 1,
     "metadata": {},
     "output_type": "execute_result"
    }
   ],
   "source": [
    "import calculator as cal\n",
    "cal.__name__"
   ]
  },
  {
   "cell_type": "code",
   "execution_count": 2,
   "id": "88d86058-0b8a-49ea-a2cc-29480c269eba",
   "metadata": {},
   "outputs": [
    {
     "name": "stdout",
     "output_type": "stream",
     "text": [
      "Hi! Welcome to calculator\n"
     ]
    }
   ],
   "source": [
    "!python calculator.py"
   ]
  },
  {
   "cell_type": "code",
   "execution_count": null,
   "id": "c500c488-3052-41d6-86e6-71cc837fcf26",
   "metadata": {},
   "outputs": [],
   "source": []
  },
  {
   "cell_type": "markdown",
   "id": "09362b1b-3ee6-4198-a779-cffb38999b6d",
   "metadata": {},
   "source": [
    "## Various Functions\n",
    "- abs\n",
    "- all\n",
    "- dir\n",
    "- divmod\n",
    "- enumerate\n",
    "- filter\n",
    "- isinstance\n",
    "- map\n",
    "- reduce -- in python3 from functools import reduce\n",
    "- sorted"
   ]
  },
  {
   "cell_type": "code",
   "execution_count": 3,
   "id": "affe289c-6167-473a-9ce9-8f7c2355c7bd",
   "metadata": {},
   "outputs": [
    {
     "data": {
      "text/plain": [
       "10"
      ]
     },
     "execution_count": 3,
     "metadata": {},
     "output_type": "execute_result"
    }
   ],
   "source": [
    "abs(10)"
   ]
  },
  {
   "cell_type": "code",
   "execution_count": 4,
   "id": "742e8712-174d-4a71-9fb6-d019d50f6ba6",
   "metadata": {},
   "outputs": [
    {
     "data": {
      "text/plain": [
       "10"
      ]
     },
     "execution_count": 4,
     "metadata": {},
     "output_type": "execute_result"
    }
   ],
   "source": [
    "abs(-10)"
   ]
  },
  {
   "cell_type": "code",
   "execution_count": 7,
   "id": "9d0dc5dc-9160-4956-96da-cb9f97307241",
   "metadata": {},
   "outputs": [
    {
     "data": {
      "text/plain": [
       "False"
      ]
     },
     "execution_count": 7,
     "metadata": {},
     "output_type": "execute_result"
    }
   ],
   "source": [
    "all([True,1,-5,3,True,False])"
   ]
  },
  {
   "cell_type": "code",
   "execution_count": 11,
   "id": "f8694210-679b-41f8-b07c-9b708cd1d03e",
   "metadata": {},
   "outputs": [],
   "source": [
    "que,rem = divmod(10,6)"
   ]
  },
  {
   "cell_type": "code",
   "execution_count": 13,
   "id": "7e110f48-d615-41a0-afea-43810d85bb7f",
   "metadata": {},
   "outputs": [
    {
     "name": "stdout",
     "output_type": "stream",
     "text": [
      "1 4\n"
     ]
    }
   ],
   "source": [
    "print(que,rem)"
   ]
  },
  {
   "cell_type": "code",
   "execution_count": 17,
   "id": "9e6d6493-5b68-48f7-ab48-6405ccef7628",
   "metadata": {},
   "outputs": [
    {
     "data": {
      "text/plain": [
       "[(0, 10), (1, 20), (2, 30), (3, 40), (4, 50)]"
      ]
     },
     "execution_count": 17,
     "metadata": {},
     "output_type": "execute_result"
    }
   ],
   "source": [
    "list(enumerate([10,20,30,40,50],start = 0))"
   ]
  },
  {
   "cell_type": "code",
   "execution_count": 19,
   "id": "2774d6c1-7c30-4467-80f3-5abf1230294a",
   "metadata": {},
   "outputs": [
    {
     "name": "stdout",
     "output_type": "stream",
     "text": [
      "0 -> 10\n",
      "1 -> 20\n",
      "2 -> 30\n",
      "3 -> 40\n",
      "4 -> 50\n"
     ]
    }
   ],
   "source": [
    "l = [10,20,30,40,50]\n",
    "\n",
    "for ind,ele in enumerate(l):\n",
    "    print(ind,'->',ele)"
   ]
  },
  {
   "cell_type": "code",
   "execution_count": 24,
   "id": "fb987a6f-efbf-4f3a-82a6-fe34e1da1c00",
   "metadata": {},
   "outputs": [
    {
     "data": {
      "text/plain": [
       "(0, 1, 4, 9, 16)"
      ]
     },
     "execution_count": 24,
     "metadata": {},
     "output_type": "execute_result"
    }
   ],
   "source": [
    "l = [i for i in range(20)]\n",
    "tuple(filter(lambda x: int(x**0.5)**2 == x,l))"
   ]
  },
  {
   "cell_type": "code",
   "execution_count": 25,
   "id": "b7af1b79-629c-43d1-ae62-c734cb2996aa",
   "metadata": {},
   "outputs": [
    {
     "data": {
      "text/plain": [
       "[0,\n",
       " 1,\n",
       " 4,\n",
       " 9,\n",
       " 16,\n",
       " 25,\n",
       " 36,\n",
       " 49,\n",
       " 64,\n",
       " 81,\n",
       " 100,\n",
       " 121,\n",
       " 144,\n",
       " 169,\n",
       " 196,\n",
       " 225,\n",
       " 256,\n",
       " 289,\n",
       " 324,\n",
       " 361]"
      ]
     },
     "execution_count": 25,
     "metadata": {},
     "output_type": "execute_result"
    }
   ],
   "source": [
    "list(map(lambda x:x**2,l))"
   ]
  },
  {
   "cell_type": "code",
   "execution_count": 26,
   "id": "f64302e5-9fa1-49b6-b12b-842921d8983b",
   "metadata": {},
   "outputs": [],
   "source": [
    "class Car:\n",
    "\n",
    "    def __init__(self,brand,color,mileage):\n",
    "        self.brand = brand\n",
    "        self.color = color\n",
    "        self.mileage = mileage\n",
    "\n",
    "    def __add__(self,other):\n",
    "        return Car(self.brand,other.color,self.mileage+other.mileage)\n",
    "\n",
    "    def __len__(self):\n",
    "        return len(self.brand)+len(self.color)\n",
    "\n",
    "    def __str__(self):\n",
    "        return f\"brand: {self.brand},color: {self.color},mileage: {self.mileage}\""
   ]
  },
  {
   "cell_type": "code",
   "execution_count": 27,
   "id": "e40204cd-c2a1-42a1-832c-f23d047be031",
   "metadata": {},
   "outputs": [],
   "source": [
    "c1 = Car(\"Toyota\",\"White\",20)\n",
    "c2 = Car(\"Honda\",\"Black\",30)\n",
    "c3 = Car(\"TATA\",\"Cyan\",25)"
   ]
  },
  {
   "cell_type": "code",
   "execution_count": 28,
   "id": "cf120c2f-c427-4519-a23d-d82f9762422b",
   "metadata": {},
   "outputs": [],
   "source": [
    "l = [c1,c2,c3]"
   ]
  },
  {
   "cell_type": "code",
   "execution_count": 32,
   "id": "0a4b0ee9-3547-45ce-9e6d-0b1cc8ae3880",
   "metadata": {},
   "outputs": [
    {
     "name": "stdout",
     "output_type": "stream",
     "text": [
      "brand: Toyota,color: White,mileage: 20\n",
      "brand: TATA,color: Cyan,mileage: 25\n",
      "brand: Honda,color: Black,mileage: 30\n"
     ]
    }
   ],
   "source": [
    "for c in sorted(l,key = lambda x:x.mileage):\n",
    "    print(c)"
   ]
  },
  {
   "cell_type": "code",
   "execution_count": 34,
   "id": "a2c5616b-9ba2-4a3a-8a1d-b5539042ff99",
   "metadata": {},
   "outputs": [
    {
     "data": {
      "text/plain": [
       "[(4, 2), (1, 3), (3, 5)]"
      ]
     },
     "execution_count": 34,
     "metadata": {},
     "output_type": "execute_result"
    }
   ],
   "source": [
    "l = [(1,3),(4,2),(3,5)]\n",
    "sorted(l,key = lambda x:x[1])"
   ]
  },
  {
   "cell_type": "code",
   "execution_count": 35,
   "id": "d9487bf4-2c3a-46d7-9db5-4d29b516e755",
   "metadata": {},
   "outputs": [],
   "source": [
    "from functools import reduce"
   ]
  },
  {
   "cell_type": "code",
   "execution_count": 37,
   "id": "6a0fb772-5824-4f70-b940-c70be52621d1",
   "metadata": {},
   "outputs": [
    {
     "data": {
      "text/plain": [
       "3628800"
      ]
     },
     "execution_count": 37,
     "metadata": {},
     "output_type": "execute_result"
    }
   ],
   "source": [
    "reduce(lambda x,y:x*y,[i for i in range(1,11)])"
   ]
  },
  {
   "cell_type": "code",
   "execution_count": null,
   "id": "250cdbc0-487d-4191-9a2d-463afec17e34",
   "metadata": {},
   "outputs": [],
   "source": []
  }
 ],
 "metadata": {
  "kernelspec": {
   "display_name": "Python 3 (ipykernel)",
   "language": "python",
   "name": "python3"
  },
  "language_info": {
   "codemirror_mode": {
    "name": "ipython",
    "version": 3
   },
   "file_extension": ".py",
   "mimetype": "text/x-python",
   "name": "python",
   "nbconvert_exporter": "python",
   "pygments_lexer": "ipython3",
   "version": "3.12.8"
  }
 },
 "nbformat": 4,
 "nbformat_minor": 5
}
