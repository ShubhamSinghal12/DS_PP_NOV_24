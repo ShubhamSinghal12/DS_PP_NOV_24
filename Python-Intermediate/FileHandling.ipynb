{
 "cells": [
  {
   "cell_type": "markdown",
   "id": "a412b717-3dca-47bc-b170-fe1dc48d1453",
   "metadata": {},
   "source": [
    "# File Access Modes\n",
    "- r(read only)\n",
    "- r+ (read and write)\n",
    "- w (write only)\n",
    "- a (append)\n",
    "- a+ (append and read)\n",
    "- x (new File Create)\n",
    "- t (text Mode)\n",
    "- b (binary Mode)\n",
    "\n",
    "## Read Files\n",
    "- read\n",
    "- readline\n",
    "- readlines\n",
    "\n",
    "## Write Files\n",
    "- write\n",
    "- append\n",
    "\n",
    "## With -- Operator\n",
    "\n",
    "## Moving the cursor\n",
    "- seek(n): takes the file handle to the nth byte from the begining\n",
    "\n",
    "## JSON Files\n",
    "- dump -- write\n",
    "- load -- read\n",
    "- dumps -- Convert dict in str\n",
    "- loads -- Convert str to dict"
   ]
  },
  {
   "cell_type": "code",
   "execution_count": 2,
   "id": "6160e171-7498-4b24-bd39-1fb849779e8f",
   "metadata": {},
   "outputs": [
    {
     "name": "stdout",
     "output_type": "stream",
     "text": [
      "This is a file demo for Nov Classroom Batch\n",
      "Statement 2\n",
      "Merry Christmas\n",
      "\n"
     ]
    }
   ],
   "source": [
    "file = open(\"FileDemo.txt\",'r')\n",
    "print(file.read())"
   ]
  },
  {
   "cell_type": "code",
   "execution_count": 4,
   "id": "9d488dac-ca83-4d8e-9c1b-64638a5d627b",
   "metadata": {},
   "outputs": [
    {
     "name": "stdout",
     "output_type": "stream",
     "text": [
      "\n",
      "This is a file demo for Nov Classroom Batch\n",
      "Statement 2\n",
      "Merry Christmas\n",
      "\n"
     ]
    }
   ],
   "source": [
    "print(file.read())\n",
    "file.seek(0)\n",
    "print(file.read())"
   ]
  },
  {
   "cell_type": "code",
   "execution_count": 7,
   "id": "f6fcdf91-bc4e-4393-8172-44ddc53c1cc6",
   "metadata": {},
   "outputs": [
    {
     "name": "stdout",
     "output_type": "stream",
     "text": [
      "This is a \n",
      "file demo for Nov Classroom Batch\n",
      "Statement 2\n",
      "Merr\n"
     ]
    }
   ],
   "source": [
    "file.seek(0)\n",
    "print(file.read(10))\n",
    "print(file.read(50))"
   ]
  },
  {
   "cell_type": "code",
   "execution_count": 8,
   "id": "020b7eba-6bad-4211-9136-7359e8d4dd82",
   "metadata": {},
   "outputs": [
    {
     "name": "stdout",
     "output_type": "stream",
     "text": [
      "This is a file demo for Nov Classroom Batch\n",
      "\n"
     ]
    }
   ],
   "source": [
    "file.seek(0)\n",
    "print(file.readline())"
   ]
  },
  {
   "cell_type": "code",
   "execution_count": 9,
   "id": "bd35a67f-a366-4ff9-9e58-3c3d34c5ecf3",
   "metadata": {},
   "outputs": [
    {
     "name": "stdout",
     "output_type": "stream",
     "text": [
      "Statement 2\n",
      "\n"
     ]
    }
   ],
   "source": [
    "print(file.readline())"
   ]
  },
  {
   "cell_type": "code",
   "execution_count": 12,
   "id": "119f4fbf-4b33-4bb8-94ff-e1a21493d736",
   "metadata": {},
   "outputs": [
    {
     "name": "stdout",
     "output_type": "stream",
     "text": [
      "This is a file demo for Nov Classroom Batch\n",
      "Statement 2\n",
      "Merry Christmas\n"
     ]
    }
   ],
   "source": [
    "file.seek(0)\n",
    "for line in file.readlines():\n",
    "    print(line,end='')"
   ]
  },
  {
   "cell_type": "code",
   "execution_count": 16,
   "id": "bcf3010d-4e13-40d8-94de-de4ca6c8b1a3",
   "metadata": {},
   "outputs": [],
   "source": [
    "file.close()"
   ]
  },
  {
   "cell_type": "code",
   "execution_count": null,
   "id": "17ba7fb1-2a28-4588-bed6-8acbbdd09ef7",
   "metadata": {},
   "outputs": [],
   "source": []
  },
  {
   "cell_type": "code",
   "execution_count": null,
   "id": "44494d0c-01d5-4a39-b93f-569393921071",
   "metadata": {},
   "outputs": [],
   "source": []
  },
  {
   "cell_type": "code",
   "execution_count": null,
   "id": "26d1a06b-2851-4d87-85ec-f661bfcf005c",
   "metadata": {},
   "outputs": [],
   "source": []
  },
  {
   "cell_type": "code",
   "execution_count": 19,
   "id": "2851b740-15f9-4dba-a48c-b5f5bcc35b33",
   "metadata": {},
   "outputs": [
    {
     "name": "stdout",
     "output_type": "stream",
     "text": [
      "This is in File Demo Folder.\n"
     ]
    }
   ],
   "source": [
    "# f = open(\"C:\\\\Users\\\\abhis\\\\Downloads\\\\FileDemo.txt\",'r')\n",
    "# f = open(\"C:/Users/abhis/Downloads/FileDemo.txt\",'r')\n",
    "# f = open(r\"C:\\Users\\abhis\\Downloads\\FileDemo.txt\",'r\n",
    "f = open(\"./FileDemo/FD.txt\",'r')\n",
    "print(f.read())\n",
    "f.close()"
   ]
  },
  {
   "cell_type": "code",
   "execution_count": 15,
   "id": "1fd97b0b-4bf9-4ff8-ab32-8233d105d756",
   "metadata": {},
   "outputs": [
    {
     "ename": "ValueError",
     "evalue": "I/O operation on closed file.",
     "output_type": "error",
     "traceback": [
      "\u001b[1;31m---------------------------------------------------------------------------\u001b[0m",
      "\u001b[1;31mValueError\u001b[0m                                Traceback (most recent call last)",
      "Cell \u001b[1;32mIn[15], line 1\u001b[0m\n\u001b[1;32m----> 1\u001b[0m \u001b[43mf\u001b[49m\u001b[38;5;241;43m.\u001b[39;49m\u001b[43mread\u001b[49m\u001b[43m(\u001b[49m\u001b[43m)\u001b[49m\n",
      "\u001b[1;31mValueError\u001b[0m: I/O operation on closed file."
     ]
    }
   ],
   "source": [
    "f.read()"
   ]
  },
  {
   "cell_type": "code",
   "execution_count": null,
   "id": "45e32908-29e7-4a6e-b638-6a399ba4d901",
   "metadata": {},
   "outputs": [],
   "source": []
  },
  {
   "cell_type": "code",
   "execution_count": 21,
   "id": "4a278ed4-f517-4904-b03d-aefcddba62d4",
   "metadata": {},
   "outputs": [],
   "source": [
    "f = open(\"FDW.txt\",'w')\n",
    "f.write(\"This is a write demo\\n\")\n",
    "f.write(\"S1\")\n",
    "f.close()"
   ]
  },
  {
   "cell_type": "code",
   "execution_count": 22,
   "id": "bc71a094-ea26-4ab1-b937-eefef9f94764",
   "metadata": {},
   "outputs": [],
   "source": [
    "f = open(\"FDW.txt\",'a')\n",
    "f.write(\"This is a append demo\\n\")\n",
    "f.write(\"S2\")\n",
    "f.close()"
   ]
  },
  {
   "cell_type": "code",
   "execution_count": null,
   "id": "46f427d3-9b7d-4f4e-a93c-d53943c6fa56",
   "metadata": {},
   "outputs": [],
   "source": []
  },
  {
   "cell_type": "code",
   "execution_count": 23,
   "id": "51f35c94-561c-4ac5-845a-4469ac2286c6",
   "metadata": {},
   "outputs": [],
   "source": [
    "f = open(\"FDW.txt\",'r+')\n",
    "f.write(\"This is a append demo\\n\")\n",
    "f.write(\"S2\")\n",
    "f.close()"
   ]
  },
  {
   "cell_type": "code",
   "execution_count": null,
   "id": "4d0023a1-0f4c-406d-8c85-b6fea62ee0df",
   "metadata": {},
   "outputs": [],
   "source": []
  },
  {
   "cell_type": "code",
   "execution_count": null,
   "id": "87330af7-8cca-485c-8b49-aec43ed64529",
   "metadata": {},
   "outputs": [],
   "source": []
  },
  {
   "cell_type": "code",
   "execution_count": 24,
   "id": "44ea41da-3ce1-40b2-b866-2b4de2f04f94",
   "metadata": {},
   "outputs": [
    {
     "name": "stdout",
     "output_type": "stream",
     "text": [
      "This is a append demo\n",
      "S2his is a append demo\n",
      "S2\n",
      "File is closed\n"
     ]
    }
   ],
   "source": [
    "with open(\"FDW.txt\",'r') as f:\n",
    "    print(f.read())\n",
    "print(\"File is closed\")"
   ]
  },
  {
   "cell_type": "code",
   "execution_count": 25,
   "id": "0ce5be93-ba8f-44fa-9e40-c3f5d0068d25",
   "metadata": {},
   "outputs": [
    {
     "ename": "ValueError",
     "evalue": "I/O operation on closed file.",
     "output_type": "error",
     "traceback": [
      "\u001b[1;31m---------------------------------------------------------------------------\u001b[0m",
      "\u001b[1;31mValueError\u001b[0m                                Traceback (most recent call last)",
      "Cell \u001b[1;32mIn[25], line 1\u001b[0m\n\u001b[1;32m----> 1\u001b[0m \u001b[43mf\u001b[49m\u001b[38;5;241;43m.\u001b[39;49m\u001b[43mread\u001b[49m\u001b[43m(\u001b[49m\u001b[43m)\u001b[49m\n",
      "\u001b[1;31mValueError\u001b[0m: I/O operation on closed file."
     ]
    }
   ],
   "source": [
    "f.read()"
   ]
  },
  {
   "cell_type": "code",
   "execution_count": null,
   "id": "ef583379-17fd-49a8-a565-5acab3ec097c",
   "metadata": {},
   "outputs": [],
   "source": []
  },
  {
   "cell_type": "code",
   "execution_count": null,
   "id": "70e5ca63-ca1c-4aad-8963-6c73222795df",
   "metadata": {},
   "outputs": [],
   "source": []
  },
  {
   "cell_type": "code",
   "execution_count": 26,
   "id": "ed14cf54-14d9-4215-a6ab-d150a4cd5049",
   "metadata": {},
   "outputs": [],
   "source": [
    "l = [\"s1\",\"s2\",\"s3\",\"s4\"]\n",
    "with open(\"asg.txt\",\"w\") as f:\n",
    "    for line in l:\n",
    "        f.write(line+\"\\n\")"
   ]
  },
  {
   "cell_type": "code",
   "execution_count": 27,
   "id": "7b70e779-f8b8-498b-834c-485aec509b42",
   "metadata": {},
   "outputs": [],
   "source": [
    "ln = []\n",
    "with open(\"asg.txt\",\"r\") as f:\n",
    "    for line in f.readlines():\n",
    "        ln.append(line[:2]+'0')"
   ]
  },
  {
   "cell_type": "code",
   "execution_count": 28,
   "id": "050c6107-f6ed-4389-9609-018bc65f195e",
   "metadata": {},
   "outputs": [
    {
     "data": {
      "text/plain": [
       "['s10', 's20', 's30', 's40']"
      ]
     },
     "execution_count": 28,
     "metadata": {},
     "output_type": "execute_result"
    }
   ],
   "source": [
    "ln"
   ]
  },
  {
   "cell_type": "code",
   "execution_count": null,
   "id": "bd639dff-089b-44f0-aadd-33d5632ccdaa",
   "metadata": {},
   "outputs": [],
   "source": []
  },
  {
   "cell_type": "code",
   "execution_count": 29,
   "id": "9ad1f4f2-ba6f-4bd5-a1bf-2461aaf6552b",
   "metadata": {},
   "outputs": [],
   "source": [
    "d = {\n",
    "    \"user\":\"Shubham\",\n",
    "    \"pass\":1234\n",
    "}"
   ]
  },
  {
   "cell_type": "code",
   "execution_count": 30,
   "id": "203f9dbf-f4bf-4c4a-bd11-39384bfb04d3",
   "metadata": {},
   "outputs": [],
   "source": [
    "import json"
   ]
  },
  {
   "cell_type": "code",
   "execution_count": 31,
   "id": "e1201354-5cfd-48d6-bc11-b99653778c17",
   "metadata": {},
   "outputs": [],
   "source": [
    "with open(\"FDJ.json\",'w') as f:\n",
    "    json.dump(d,f)"
   ]
  },
  {
   "cell_type": "code",
   "execution_count": 32,
   "id": "1fd4a668-f50e-4fb7-8d6f-a609be35d188",
   "metadata": {},
   "outputs": [],
   "source": [
    "with open(\"FDJ.json\",'r') as f:\n",
    "    dr = json.load(f)"
   ]
  },
  {
   "cell_type": "code",
   "execution_count": 34,
   "id": "197c7f9d-7d1b-47af-b854-2907575c77ba",
   "metadata": {},
   "outputs": [
    {
     "data": {
      "text/plain": [
       "({'user': 'Shubham', 'pass': 1234}, dict)"
      ]
     },
     "execution_count": 34,
     "metadata": {},
     "output_type": "execute_result"
    }
   ],
   "source": [
    "dr,type(dr)"
   ]
  },
  {
   "cell_type": "code",
   "execution_count": 36,
   "id": "855c1289-45f1-42c1-b182-ce619e85cdf6",
   "metadata": {},
   "outputs": [
    {
     "data": {
      "text/plain": [
       "'{\"user\": \"Shubham\", \"pass\": 1234}'"
      ]
     },
     "execution_count": 36,
     "metadata": {},
     "output_type": "execute_result"
    }
   ],
   "source": [
    "st = json.dumps(d)\n",
    "st"
   ]
  },
  {
   "cell_type": "code",
   "execution_count": 37,
   "id": "1d3250e9-01e0-48e2-9bd6-3acdd41b99a0",
   "metadata": {},
   "outputs": [],
   "source": [
    "d1 = json.loads(st)"
   ]
  },
  {
   "cell_type": "code",
   "execution_count": null,
   "id": "62ff47ce-a9ce-4053-8fe0-525a1d0083a4",
   "metadata": {},
   "outputs": [],
   "source": [
    "d"
   ]
  }
 ],
 "metadata": {
  "kernelspec": {
   "display_name": "Python 3 (ipykernel)",
   "language": "python",
   "name": "python3"
  },
  "language_info": {
   "codemirror_mode": {
    "name": "ipython",
    "version": 3
   },
   "file_extension": ".py",
   "mimetype": "text/x-python",
   "name": "python",
   "nbconvert_exporter": "python",
   "pygments_lexer": "ipython3",
   "version": "3.12.8"
  }
 },
 "nbformat": 4,
 "nbformat_minor": 5
}
