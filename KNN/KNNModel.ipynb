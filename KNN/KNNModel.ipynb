{
 "cells": [
  {
   "cell_type": "code",
   "execution_count": 1,
   "id": "657d87a7-ea22-4f53-9045-41db37855392",
   "metadata": {},
   "outputs": [],
   "source": [
    "import pandas as pd\n",
    "import numpy as np\n",
    "import matplotlib.pyplot as plt\n"
   ]
  },
  {
   "cell_type": "code",
   "execution_count": 5,
   "id": "e7b0014a-d5a6-4df4-819f-da01554b1199",
   "metadata": {},
   "outputs": [
    {
     "name": "stdout",
     "output_type": "stream",
     "text": [
      "(399, 2) (399,)\n"
     ]
    }
   ],
   "source": [
    "x = pd.read_csv(\"xdata.csv\",index_col=False,usecols=[1,2])\n",
    "y = pd.read_csv(\"ydata.csv\",index_col=False,usecols=[1])\n",
    "\n",
    "X_data,y_data = x.values,y.values.reshape(-1)\n",
    "print(X_data.shape,y_data.shape)"
   ]
  },
  {
   "cell_type": "code",
   "execution_count": 19,
   "id": "68c0f78c-8c99-4787-a3e5-154d6e71adc5",
   "metadata": {},
   "outputs": [],
   "source": [
    "# split = 0.8\n",
    "# x_train,x_test = X_data[:int(split*len(X_data))],X_data[int(split*len(X_data)):]\n",
    "# y_train,y_test = y_data[:int(split*len(X_data))],y_data[int(split*len(X_data)):]\n",
    "\n",
    "from sklearn.model_selection import train_test_split\n",
    "\n",
    "x_train,x_test,y_train,y_test = train_test_split(X_data,y_data,test_size=0.2)"
   ]
  },
  {
   "cell_type": "code",
   "execution_count": 3,
   "id": "bc9c710b-d488-409c-a832-223bb2e716ae",
   "metadata": {},
   "outputs": [
    {
     "data": {
      "image/png": "[encoded data removed]",
      "text/plain": [
       "<Figure size 640x480 with 1 Axes>"
      ]
     },
     "metadata": {},
     "output_type": "display_data"
    }
   ],
   "source": [
    "plt.scatter(X_data[y_data == 0][:,0],X_data[y_data == 0][:,1],c='blue',label = '0')\n",
    "plt.scatter(X_data[y_data == 1][:,0],X_data[y_data == 1][:,1],c='y',label = '1')\n",
    "plt.scatter(2,3,c='r')\n",
    "plt.legend()\n",
    "plt.show()"
   ]
  },
  {
   "cell_type": "code",
   "execution_count": 9,
   "id": "62da6d6d-fa72-4f13-bb45-89b2e169379d",
   "metadata": {},
   "outputs": [
    {
     "data": {
      "text/plain": [
       "array([2, 3])"
      ]
     },
     "execution_count": 9,
     "metadata": {},
     "output_type": "execute_result"
    }
   ],
   "source": [
    "T = np.array([2,3])\n",
    "T"
   ]
  },
  {
   "cell_type": "code",
   "execution_count": 10,
   "id": "bf9c736a-92ee-4ab4-9ac9-d3391ba90073",
   "metadata": {},
   "outputs": [],
   "source": [
    "def distance(a,b):\n",
    "    return np.sqrt(np.sum((a-b)**2))"
   ]
  },
  {
   "cell_type": "code",
   "execution_count": 11,
   "id": "939e43d4-f6fb-4a27-b620-4385c2f77ef9",
   "metadata": {},
   "outputs": [],
   "source": [
    "k = 5\n",
    "def predict_1(t):\n",
    "    dist = []\n",
    "    for p in range(X_data.shape[0]):\n",
    "        dist.append(distance(t,X_data[p]))\n",
    "\n",
    "    knear = np.argsort(dist)[:k]\n",
    "    klabels = []\n",
    "    for p in knear:\n",
    "        klabels.append(y_data[p])\n",
    "\n",
    "    labels,counts = np.unique(klabels,return_counts=True)\n",
    "    return labels[np.argmax(counts)]"
   ]
  },
  {
   "cell_type": "code",
   "execution_count": 12,
   "id": "32c0e063-b890-469a-a5cd-bef014b2749d",
   "metadata": {},
   "outputs": [
    {
     "data": {
      "text/plain": [
       "0.0"
      ]
     },
     "execution_count": 12,
     "metadata": {},
     "output_type": "execute_result"
    }
   ],
   "source": [
    "predict_1(T)"
   ]
  },
  {
   "cell_type": "code",
   "execution_count": null,
   "id": "28600685-2536-4f84-ae3b-082d6c05dc6c",
   "metadata": {},
   "outputs": [],
   "source": []
  },
  {
   "cell_type": "code",
   "execution_count": 15,
   "id": "0bff5f00-6c05-4c5e-928f-ac82a4e63576",
   "metadata": {},
   "outputs": [],
   "source": [
    "class KNNClassifier:\n",
    "    def __init__(self,k = 5):\n",
    "        self.k = k\n",
    "        \n",
    "    def fit(self,x,y):\n",
    "        self.X = x\n",
    "        self.y = y\n",
    "        \n",
    "    def distance_formula(self,p1,p2):\n",
    "        return np.sqrt(np.sum((p1-p2)**2))\n",
    "        \n",
    "    def predict_1(self,t):\n",
    "        dist = []\n",
    "        for p in self.X:\n",
    "            dist.append(distance(t,p))\n",
    "    \n",
    "        knear = np.argsort(dist)[:k]\n",
    "        klabels = []\n",
    "        for p in knear:\n",
    "            klabels.append(self.y[p])\n",
    "    \n",
    "        labels,counts = np.unique(klabels,return_counts=True)\n",
    "        predLabel = labels[np.argmax(counts)]\n",
    "        prob = np.max(counts)/self.k\n",
    "        # print(\"Probability:\", prob)\n",
    "        \n",
    "        return predLabel \n",
    "        # For Regression return np.mean(klables)\n",
    "\n",
    "    def predict(self,t):\n",
    "        predictions = []\n",
    "        for i in range(len(t)):\n",
    "            predictions.append(self.predict_1(t[i]))\n",
    "        return np.array(predictions)\n",
    "\n",
    "    def accuracy(ytrue,ypred):\n",
    "        return np.mean(ytrue==ypred)\n",
    "        "
   ]
  },
  {
   "cell_type": "code",
   "execution_count": 16,
   "id": "e64d6b43-d79f-4af2-9519-a6b057a483d3",
   "metadata": {},
   "outputs": [
    {
     "data": {
      "text/plain": [
       "1.0"
      ]
     },
     "execution_count": 16,
     "metadata": {},
     "output_type": "execute_result"
    }
   ],
   "source": [
    "clf = KNNClassifier(k=5)\n",
    "clf.fit(X_data,y_data)\n",
    "ypred = clf.predict(X_data)\n",
    "KNNClassifier.accuracy(y_data,ypred)"
   ]
  },
  {
   "cell_type": "code",
   "execution_count": null,
   "id": "42bb99c6-12fc-462b-b154-d9d4d07ee651",
   "metadata": {},
   "outputs": [],
   "source": []
  },
  {
   "cell_type": "code",
   "execution_count": null,
   "id": "8e5a133d-9128-40b1-a41b-2b74e15f1ec8",
   "metadata": {},
   "outputs": [],
   "source": []
  }
 ],
 "metadata": {
  "kernelspec": {
   "display_name": "Python 3 (ipykernel)",
   "language": "python",
   "name": "python3"
  },
  "language_info": {
   "codemirror_mode": {
    "name": "ipython",
    "version": 3
   },
   "file_extension": ".py",
   "mimetype": "text/x-python",
   "name": "python",
   "nbconvert_exporter": "python",
   "pygments_lexer": "ipython3",
   "version": "3.12.8"
  }
 },
 "nbformat": 4,
 "nbformat_minor": 5
}
