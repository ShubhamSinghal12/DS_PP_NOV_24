{
 "cells": [
  {
   "cell_type": "markdown",
   "id": "a9fbc3e4-d32a-4729-9d33-5d180c15d0bc",
   "metadata": {},
   "source": [
    "# Numpy\n",
    "```\n",
    "pip install numpy\n",
    "```\n",
    "\n",
    "- Mathematical Calculations\n",
    "- Numpy Array Creation\n",
    "- Shape\n",
    "- indexing\n",
    "- data types: b,i,u,f,c,m,M,O,S,u,V (https://numpy.org/doc/1.25/reference/arrays.dtypes.html#arrays-dtypes)\n",
    "- more creation methods: arange, linspace, ones, zeros, eye, diag\n",
    "- random numbers: Numpy Random Module\n",
    "    - rand: Random values in given shape\n",
    "    - randn: Return samples from the Standard normal distribution\n",
    "    - randint: Return random integer from low(inclusive) to high(exclusive)\n",
    "    - random: Return random floats in [0.0,1.0)\n",
    "    - choice: Generates a random sample from given 1D array\n",
    "    - Shuffle: Shuffle the contents of the sequence. Discuss np.random.seed()\n",
    "- reshape: -1 for unknown\n",
    "- slicing and assignment\n",
    "- copy and view: share_memory\n",
    "- operators(Element wise operations)\n",
    "- and: &, or: |, not: ~\n",
    "- shape mismatch\n",
    "- fancy indexing also know as filter\n",
    "- search: where uses fancy indexing\n",
    "- Basic reductions: sum, min, max, any, all,argmax, argmin\n",
    "- Some More Numpy Functions - Statistics: mean, median, average, variance, standard deviation\n",
    "- iteration: nditer, ndenumerate\n",
    "- Join: concatenate, stack, hstack, vstack. Note: make a tuple of arays you want to join\n",
    "- split: array_split, hsplit\n",
    "- sort: np.sort\n",
    "- Broadcasting\n",
    "- Input from Text File\n",
    "- Questions"
   ]
  },
  {
   "cell_type": "code",
   "execution_count": 5,
   "id": "6ed84830-1a0d-49b0-a4cf-5e2b30e3ad69",
   "metadata": {},
   "outputs": [],
   "source": [
    "import numpy as np"
   ]
  },
  {
   "cell_type": "code",
   "execution_count": 6,
   "id": "0a1256d4-b4eb-4904-966c-a4468d5e480f",
   "metadata": {},
   "outputs": [],
   "source": [
    "l1 = [1,2,3,4,5]\n",
    "l2 = [[1,2,3],[4,5,6]]\n",
    "l3 = [[[1,2,3],[4,5,6]],[[10,20,30],[40,50,60]],[[100,200,300],[400,500,600]]]"
   ]
  },
  {
   "cell_type": "code",
   "execution_count": 7,
   "id": "4f68e81c-ce9e-42fa-bfba-22973b0f2edc",
   "metadata": {},
   "outputs": [
    {
     "name": "stdout",
     "output_type": "stream",
     "text": [
      "[[[1, 2, 3], [4, 5, 6]], [[10, 20, 30], [40, 50, 60]], [[100, 200, 300], [400, 500, 600]]]\n"
     ]
    }
   ],
   "source": [
    "print(l3)"
   ]
  },
  {
   "cell_type": "code",
   "execution_count": 8,
   "id": "4beb9be6-1c1b-4391-aba0-2afce4131e81",
   "metadata": {},
   "outputs": [],
   "source": [
    "n1 = np.array(l1)\n",
    "n2 = np.array(l2)\n",
    "n3 = np.array(l3)"
   ]
  },
  {
   "cell_type": "code",
   "execution_count": 9,
   "id": "5b0f03b5-c471-4ba8-9d30-4421e3487550",
   "metadata": {},
   "outputs": [
    {
     "data": {
      "text/plain": [
       "array([1, 2, 3, 4, 5])"
      ]
     },
     "execution_count": 9,
     "metadata": {},
     "output_type": "execute_result"
    }
   ],
   "source": [
    "n1"
   ]
  },
  {
   "cell_type": "code",
   "execution_count": 10,
   "id": "ce674d2f-aa93-410f-935f-482a32789017",
   "metadata": {},
   "outputs": [
    {
     "data": {
      "text/plain": [
       "array([[1, 2, 3],\n",
       "       [4, 5, 6]])"
      ]
     },
     "execution_count": 10,
     "metadata": {},
     "output_type": "execute_result"
    }
   ],
   "source": [
    "n2"
   ]
  },
  {
   "cell_type": "code",
   "execution_count": 11,
   "id": "97fecfea-8af9-4c79-b9e1-b7c09c2d22e2",
   "metadata": {},
   "outputs": [
    {
     "data": {
      "text/plain": [
       "array([[[  1,   2,   3],\n",
       "        [  4,   5,   6]],\n",
       "\n",
       "       [[ 10,  20,  30],\n",
       "        [ 40,  50,  60]],\n",
       "\n",
       "       [[100, 200, 300],\n",
       "        [400, 500, 600]]])"
      ]
     },
     "execution_count": 11,
     "metadata": {},
     "output_type": "execute_result"
    }
   ],
   "source": [
    "n3"
   ]
  },
  {
   "cell_type": "code",
   "execution_count": 12,
   "id": "ff4396bf-a312-4ea0-b95c-f7345b64c2f3",
   "metadata": {},
   "outputs": [
    {
     "data": {
      "text/plain": [
       "(5,)"
      ]
     },
     "execution_count": 12,
     "metadata": {},
     "output_type": "execute_result"
    }
   ],
   "source": [
    "n1.shape"
   ]
  },
  {
   "cell_type": "code",
   "execution_count": 13,
   "id": "0a4e5d0e-a50c-4c3e-9a8b-56ef8c827a4c",
   "metadata": {},
   "outputs": [
    {
     "data": {
      "text/plain": [
       "(2, 3)"
      ]
     },
     "execution_count": 13,
     "metadata": {},
     "output_type": "execute_result"
    }
   ],
   "source": [
    "n2.shape"
   ]
  },
  {
   "cell_type": "code",
   "execution_count": 14,
   "id": "0b2c6ea4-448e-48c3-9c5f-661d2e23769b",
   "metadata": {},
   "outputs": [
    {
     "data": {
      "text/plain": [
       "(3, 2, 3)"
      ]
     },
     "execution_count": 14,
     "metadata": {},
     "output_type": "execute_result"
    }
   ],
   "source": [
    "n3.shape"
   ]
  },
  {
   "cell_type": "code",
   "execution_count": 17,
   "id": "88c45b4c-0ea9-4f0e-bcb6-0c32a94fac17",
   "metadata": {},
   "outputs": [
    {
     "data": {
      "text/plain": [
       "3"
      ]
     },
     "execution_count": 17,
     "metadata": {},
     "output_type": "execute_result"
    }
   ],
   "source": [
    "n3.ndim"
   ]
  },
  {
   "cell_type": "code",
   "execution_count": 22,
   "id": "7cbf2b45-1f0a-4114-b3f5-84e196aa99cf",
   "metadata": {},
   "outputs": [
    {
     "data": {
      "text/plain": [
       "[[10, 20, 30], [40, 50, 60]]"
      ]
     },
     "execution_count": 22,
     "metadata": {},
     "output_type": "execute_result"
    }
   ],
   "source": [
    "l3[1]"
   ]
  },
  {
   "cell_type": "code",
   "execution_count": 24,
   "id": "a9ace92e-4367-4c59-b008-69e2f3121d6a",
   "metadata": {},
   "outputs": [
    {
     "data": {
      "text/plain": [
       "array([[100, 200, 300],\n",
       "       [400, 500, 600]])"
      ]
     },
     "execution_count": 24,
     "metadata": {},
     "output_type": "execute_result"
    }
   ],
   "source": [
    "n3[-1]"
   ]
  },
  {
   "cell_type": "code",
   "execution_count": 25,
   "id": "2a30942f-78f4-4568-aa81-4b9da6c84888",
   "metadata": {},
   "outputs": [
    {
     "data": {
      "text/plain": [
       "dtype('int64')"
      ]
     },
     "execution_count": 25,
     "metadata": {},
     "output_type": "execute_result"
    }
   ],
   "source": [
    "n3.dtype"
   ]
  },
  {
   "cell_type": "code",
   "execution_count": 29,
   "id": "1942d47d-9548-42c0-ac12-d9e8ed1dd6b2",
   "metadata": {},
   "outputs": [
    {
     "data": {
      "text/plain": [
       "array([[[  1,   2,   3],\n",
       "        [  4,   5,   6]],\n",
       "\n",
       "       [[ 10,  20,  30],\n",
       "        [ 40,  50,  60]],\n",
       "\n",
       "       [[100, 200, 300],\n",
       "        [400, 500, 600]]])"
      ]
     },
     "execution_count": 29,
     "metadata": {},
     "output_type": "execute_result"
    }
   ],
   "source": [
    "# n3 = np.array(l3,dtype = 'float32')\n",
    "# n3 = np.array(l3,dtype = 'f4')\n",
    "n3 = np.array(l3,dtype = 'i8')\n",
    "n3"
   ]
  },
  {
   "cell_type": "code",
   "execution_count": 30,
   "id": "4a2d729f-6929-4241-b34f-7c35990988cd",
   "metadata": {},
   "outputs": [
    {
     "data": {
      "text/plain": [
       "dtype('int64')"
      ]
     },
     "execution_count": 30,
     "metadata": {},
     "output_type": "execute_result"
    }
   ],
   "source": [
    "n3.dtype"
   ]
  },
  {
   "cell_type": "code",
   "execution_count": 35,
   "id": "7140ed62-baeb-4728-817e-de1bb8748ac3",
   "metadata": {},
   "outputs": [
    {
     "data": {
      "text/plain": [
       "array([list([1, 2, 3]), list([4, 5])], dtype=object)"
      ]
     },
     "execution_count": 35,
     "metadata": {},
     "output_type": "execute_result"
    }
   ],
   "source": [
    "l = [[1,2,3],[4,5]]\n",
    "a = np.array(l,dtype='object')\n",
    "a"
   ]
  },
  {
   "cell_type": "code",
   "execution_count": 36,
   "id": "6b4a4bf1-5022-4345-a439-7e1e41b3403b",
   "metadata": {},
   "outputs": [
    {
     "data": {
      "text/plain": [
       "(2,)"
      ]
     },
     "execution_count": 36,
     "metadata": {},
     "output_type": "execute_result"
    }
   ],
   "source": [
    "a.shape"
   ]
  },
  {
   "cell_type": "code",
   "execution_count": 38,
   "id": "82ab6074-c927-4600-95b7-0f3c9ba4019d",
   "metadata": {},
   "outputs": [],
   "source": [
    "a[0][1] = 20"
   ]
  },
  {
   "cell_type": "code",
   "execution_count": 39,
   "id": "7b6bcfca-7ce3-41dd-9450-b9d3bfb9efab",
   "metadata": {},
   "outputs": [
    {
     "data": {
      "text/plain": [
       "array([list([1, 20, 3]), list([4, 5])], dtype=object)"
      ]
     },
     "execution_count": 39,
     "metadata": {},
     "output_type": "execute_result"
    }
   ],
   "source": [
    "a"
   ]
  },
  {
   "cell_type": "markdown",
   "id": "ce542862-f148-4488-92cc-6ce8422c1efc",
   "metadata": {},
   "source": [
    "more creation methods: arange, linspace, ones, zeros, eye, diag"
   ]
  },
  {
   "cell_type": "code",
   "execution_count": 43,
   "id": "adde95ae-3f3b-48e2-a89c-1cd97a377517",
   "metadata": {},
   "outputs": [
    {
     "data": {
      "text/plain": [
       "array([ 0.,  1.,  2.,  3.,  4.,  5.,  6.,  7.,  8.,  9., 10., 11., 12.,\n",
       "       13., 14., 15., 16., 17., 18., 19.], dtype=float32)"
      ]
     },
     "execution_count": 43,
     "metadata": {},
     "output_type": "execute_result"
    }
   ],
   "source": [
    "np.arange(20,dtype = 'f')"
   ]
  },
  {
   "cell_type": "code",
   "execution_count": 44,
   "id": "f7fec12b-ea33-487f-a8b1-8bbccea834ea",
   "metadata": {},
   "outputs": [
    {
     "data": {
      "text/plain": [
       "numpy.ndarray"
      ]
     },
     "execution_count": 44,
     "metadata": {},
     "output_type": "execute_result"
    }
   ],
   "source": [
    "type(n1)"
   ]
  },
  {
   "cell_type": "code",
   "execution_count": 47,
   "id": "167b3fc6-dbb1-4899-b0c7-2b994d8f6fbe",
   "metadata": {},
   "outputs": [
    {
     "data": {
      "text/plain": [
       "array([1.        , 1.33333333, 1.66666667, 2.        ])"
      ]
     },
     "execution_count": 47,
     "metadata": {},
     "output_type": "execute_result"
    }
   ],
   "source": [
    "np.linspace(1,2,4)"
   ]
  },
  {
   "cell_type": "code",
   "execution_count": 52,
   "id": "f11b897a-a92b-4d6b-b381-fbb74596a653",
   "metadata": {},
   "outputs": [
    {
     "data": {
      "text/plain": [
       "array([[[1, 1],\n",
       "        [1, 1],\n",
       "        [1, 1]],\n",
       "\n",
       "       [[1, 1],\n",
       "        [1, 1],\n",
       "        [1, 1]]], dtype=int32)"
      ]
     },
     "execution_count": 52,
     "metadata": {},
     "output_type": "execute_result"
    }
   ],
   "source": [
    "shape = [2,3,2]\n",
    "np.ones(shape,dtype = 'i')"
   ]
  },
  {
   "cell_type": "code",
   "execution_count": 54,
   "id": "e5cc71a4-c7e6-4f6b-90c9-f69d31a10340",
   "metadata": {},
   "outputs": [
    {
     "data": {
      "text/plain": [
       "array([[[0., 0., 0.],\n",
       "        [0., 0., 0.]],\n",
       "\n",
       "       [[0., 0., 0.],\n",
       "        [0., 0., 0.]],\n",
       "\n",
       "       [[0., 0., 0.],\n",
       "        [0., 0., 0.]]])"
      ]
     },
     "execution_count": 54,
     "metadata": {},
     "output_type": "execute_result"
    }
   ],
   "source": [
    "np.zeros((3,2,3))"
   ]
  },
  {
   "cell_type": "code",
   "execution_count": 57,
   "id": "d006c35d-afcf-419a-a1b9-53453ace7875",
   "metadata": {},
   "outputs": [
    {
     "data": {
      "text/plain": [
       "array([[1., 0., 0.],\n",
       "       [0., 1., 0.],\n",
       "       [0., 0., 1.],\n",
       "       [0., 0., 0.]])"
      ]
     },
     "execution_count": 57,
     "metadata": {},
     "output_type": "execute_result"
    }
   ],
   "source": [
    "np.eye(4,3)"
   ]
  },
  {
   "cell_type": "code",
   "execution_count": 58,
   "id": "1843c8d0-977e-4a96-b7c9-ee2a4c9d6826",
   "metadata": {},
   "outputs": [
    {
     "data": {
      "text/plain": [
       "array([[1, 0, 0, 0],\n",
       "       [0, 2, 0, 0],\n",
       "       [0, 0, 3, 0],\n",
       "       [0, 0, 0, 4]])"
      ]
     },
     "execution_count": 58,
     "metadata": {},
     "output_type": "execute_result"
    }
   ],
   "source": [
    "np.diag([1,2,3,4])"
   ]
  },
  {
   "cell_type": "code",
   "execution_count": null,
   "id": "c0f44bfe-b4f7-4a1b-9135-d12228682f36",
   "metadata": {},
   "outputs": [],
   "source": []
  },
  {
   "cell_type": "markdown",
   "id": "ca8ac8a8-50f2-4319-86ab-1271ed71ea02",
   "metadata": {},
   "source": [
    "- random numbers: Numpy Random Module\n",
    "    - rand: Random values in given shape\n",
    "    - randn: Return samples from the Standard normal distribution\n",
    "    - randint: Return random integer from low(inclusive) to high(exclusive)\n",
    "    - random: Return random floats in [0.0,1.0)\n",
    "    - choice: Generates a random sample from given 1D array\n",
    "    - Shuffle: Shuffle the contents of the sequence. Discuss np.random.seed()"
   ]
  },
  {
   "cell_type": "code",
   "execution_count": 68,
   "id": "fc6f87b8-c5cb-47a6-a3c0-de56b2ae6eb5",
   "metadata": {},
   "outputs": [
    {
     "data": {
      "text/plain": [
       "array([[[19.35497596, 16.48014237, 15.43176934],\n",
       "        [10.97928393, 16.4947988 , 18.97051379]],\n",
       "\n",
       "       [[15.66281029, 19.8285114 , 19.56268798],\n",
       "        [19.81045664, 15.80391864, 17.38526294]],\n",
       "\n",
       "       [[16.10442794, 15.52456964, 10.0619952 ],\n",
       "        [10.66613801, 12.39750016, 14.6053946 ]]])"
      ]
     },
     "execution_count": 68,
     "metadata": {},
     "output_type": "execute_result"
    }
   ],
   "source": [
    "(20-10)*np.random.rand(3,2,3)+10"
   ]
  },
  {
   "cell_type": "code",
   "execution_count": 61,
   "id": "2417bfd9-066a-4c93-9811-db901132f667",
   "metadata": {},
   "outputs": [
    {
     "data": {
      "text/plain": [
       "array([[0.95003176, 0.25107383, 0.0409758 ],\n",
       "       [0.51358872, 0.35469724, 0.05338177]])"
      ]
     },
     "execution_count": 61,
     "metadata": {},
     "output_type": "execute_result"
    }
   ],
   "source": [
    "np.random.random((2,3))"
   ]
  },
  {
   "cell_type": "code",
   "execution_count": 63,
   "id": "096711c5-bcea-47fa-8d6a-0651fffea2ec",
   "metadata": {},
   "outputs": [
    {
     "data": {
      "text/plain": [
       "array([[[ 1.1948109 ,  1.55353943, -1.32155459],\n",
       "        [-0.61929736, -0.27946715,  0.72700764]],\n",
       "\n",
       "       [[ 0.84076246, -0.96739736, -0.57841298],\n",
       "        [ 0.64711411,  1.68762785,  0.56226468]],\n",
       "\n",
       "       [[-0.23143343,  0.17896894,  0.20056809],\n",
       "        [-0.00389362, -1.06736444,  0.59807537]]])"
      ]
     },
     "execution_count": 63,
     "metadata": {},
     "output_type": "execute_result"
    }
   ],
   "source": [
    "np.random.randn(3,2,3)"
   ]
  },
  {
   "cell_type": "code",
   "execution_count": 67,
   "id": "8feed4ab-2495-4468-9121-bfb169f81d3e",
   "metadata": {},
   "outputs": [
    {
     "data": {
      "text/plain": [
       "array([[17, 19, 13],\n",
       "       [13, 12, 14]], dtype=int32)"
      ]
     },
     "execution_count": 67,
     "metadata": {},
     "output_type": "execute_result"
    }
   ],
   "source": [
    "np.random.randint(10,20,size=(2,3))"
   ]
  },
  {
   "cell_type": "code",
   "execution_count": 74,
   "id": "7bdcb9bc-d263-442f-bebd-2406c7534d43",
   "metadata": {},
   "outputs": [
    {
     "data": {
      "text/plain": [
       "array([[17, 10],\n",
       "       [10, 10],\n",
       "       [16, 16]])"
      ]
     },
     "execution_count": 74,
     "metadata": {},
     "output_type": "execute_result"
    }
   ],
   "source": [
    "np.random.choice(np.arange(10,21),size=(3,2),p = [0.5,0.1,0,0,0,0,0.2,0.2,0,0,0])"
   ]
  },
  {
   "cell_type": "code",
   "execution_count": 93,
   "id": "2175420c-aa21-4b12-8127-9322d1a724ba",
   "metadata": {},
   "outputs": [
    {
     "data": {
      "text/plain": [
       "array([10, 11, 12, 13, 14, 15, 16, 17, 18, 19, 20])"
      ]
     },
     "execution_count": 93,
     "metadata": {},
     "output_type": "execute_result"
    }
   ],
   "source": [
    "a = np.arange(10,21)\n",
    "a"
   ]
  },
  {
   "cell_type": "code",
   "execution_count": 94,
   "id": "35cc211a-d00f-4e20-8dc4-d55dd8b97ae8",
   "metadata": {},
   "outputs": [
    {
     "data": {
      "text/plain": [
       "array([12, 13, 14, 19, 11, 16, 10, 17, 20, 18, 15])"
      ]
     },
     "execution_count": 94,
     "metadata": {},
     "output_type": "execute_result"
    }
   ],
   "source": [
    "np.random.seed(1)\n",
    "np.random.shuffle(a)\n",
    "a"
   ]
  },
  {
   "cell_type": "code",
   "execution_count": 99,
   "id": "f7520aaa-6b19-4ba6-9674-4f7c8a75e299",
   "metadata": {},
   "outputs": [],
   "source": [
    "a = np.arange(10,22)"
   ]
  },
  {
   "cell_type": "code",
   "execution_count": 100,
   "id": "376ed480-fa27-4848-a602-a0ffb5bdef88",
   "metadata": {},
   "outputs": [
    {
     "data": {
      "text/plain": [
       "(12,)"
      ]
     },
     "execution_count": 100,
     "metadata": {},
     "output_type": "execute_result"
    }
   ],
   "source": [
    "a.shape"
   ]
  },
  {
   "cell_type": "code",
   "execution_count": 101,
   "id": "2cf785a9-e3d9-469e-87cf-e896de762859",
   "metadata": {},
   "outputs": [
    {
     "data": {
      "text/plain": [
       "array([10, 11, 12, 13, 14, 15, 16, 17, 18, 19, 20, 21])"
      ]
     },
     "execution_count": 101,
     "metadata": {},
     "output_type": "execute_result"
    }
   ],
   "source": [
    "a"
   ]
  },
  {
   "cell_type": "code",
   "execution_count": 106,
   "id": "2066c98e-5077-41c8-bf9f-e53e8ccea9eb",
   "metadata": {},
   "outputs": [],
   "source": [
    "b = a.reshape((2,-1,2))"
   ]
  },
  {
   "cell_type": "code",
   "execution_count": 107,
   "id": "fba8fcd1-2e63-4d6a-a7c5-e153643a601b",
   "metadata": {},
   "outputs": [
    {
     "data": {
      "text/plain": [
       "array([[[10, 11],\n",
       "        [12, 13],\n",
       "        [14, 15]],\n",
       "\n",
       "       [[16, 17],\n",
       "        [18, 19],\n",
       "        [20, 21]]])"
      ]
     },
     "execution_count": 107,
     "metadata": {},
     "output_type": "execute_result"
    }
   ],
   "source": [
    "b"
   ]
  },
  {
   "cell_type": "code",
   "execution_count": 110,
   "id": "f3b48806-2d10-428d-8f9a-3c8b9408f17c",
   "metadata": {},
   "outputs": [
    {
     "data": {
      "text/plain": [
       "array([10, 11, 12, 13, 14, 15, 16, 17, 18, 19, 20, 21])"
      ]
     },
     "execution_count": 110,
     "metadata": {},
     "output_type": "execute_result"
    }
   ],
   "source": [
    "b.reshape(-1)"
   ]
  },
  {
   "cell_type": "code",
   "execution_count": 113,
   "id": "6ac8bcb9-33ec-46d8-8c39-5c4d396d8dcb",
   "metadata": {},
   "outputs": [],
   "source": [
    "a = np.arange(100).reshape((10,10))"
   ]
  },
  {
   "cell_type": "code",
   "execution_count": 122,
   "id": "977082da-eb99-493e-bb66-70773cab93f2",
   "metadata": {},
   "outputs": [
    {
     "data": {
      "text/plain": [
       "array([[ 0,  1,  2,  3,  4,  5,  6,  7,  8,  9],\n",
       "       [10, 11, 12, 13, 14, 15, 16, 17, 18, 19],\n",
       "       [20, 21, 22, 23, 24, 25, 26, 27, 28, 29],\n",
       "       [30, 31, 32, 33, 34, 35, 36, 37, 38, 39],\n",
       "       [40, 41, 42, 43, 44, 45, 46, 47, 48, 49],\n",
       "       [50, 51, 52, 53, 54, 55, 56, 57, 58, 59],\n",
       "       [60, 61, 62, 63, 64, 65, 66, 67, 68, 69],\n",
       "       [70, 71, 72, 73, 74, 75, 76, 77, 78, 79],\n",
       "       [80, 81, 82, 83, 84, 85, 86, 87, 88, 89],\n",
       "       [90, 91, 92, 93, 94, 95, 96, 97, 98, 99]])"
      ]
     },
     "execution_count": 122,
     "metadata": {},
     "output_type": "execute_result"
    }
   ],
   "source": [
    "a"
   ]
  },
  {
   "cell_type": "code",
   "execution_count": 123,
   "id": "b28efc35-74ba-4ac9-9bc3-a26f104951b0",
   "metadata": {},
   "outputs": [
    {
     "data": {
      "text/plain": [
       "array([[32, 33, 34, 35, 36],\n",
       "       [42, 43, 44, 45, 46],\n",
       "       [52, 53, 54, 55, 56],\n",
       "       [62, 63, 64, 65, 66]])"
      ]
     },
     "execution_count": 123,
     "metadata": {},
     "output_type": "execute_result"
    }
   ],
   "source": [
    "a[3:7,2:7]"
   ]
  },
  {
   "cell_type": "code",
   "execution_count": 120,
   "id": "f3f32167-f921-4487-af19-356c6430633e",
   "metadata": {},
   "outputs": [
    {
     "data": {
      "text/plain": [
       "array([[ 2,  4,  6,  8],\n",
       "       [12, 14, 16, 18],\n",
       "       [22, 24, 26, 28],\n",
       "       [32, 34, 36, 38],\n",
       "       [42, 44, 46, 48],\n",
       "       [52, 54, 56, 58],\n",
       "       [62, 64, 66, 68],\n",
       "       [72, 74, 76, 78],\n",
       "       [82, 84, 86, 88],\n",
       "       [92, 94, 96, 98]])"
      ]
     },
     "execution_count": 120,
     "metadata": {},
     "output_type": "execute_result"
    }
   ],
   "source": [
    "a[:,2:9:2]"
   ]
  },
  {
   "cell_type": "code",
   "execution_count": 124,
   "id": "527d7a88-1ea6-4ae6-8ff9-3c239603c218",
   "metadata": {},
   "outputs": [],
   "source": [
    "b = a[3:7]"
   ]
  },
  {
   "cell_type": "code",
   "execution_count": 127,
   "id": "9733cc66-5a73-4998-bae8-6d096837682e",
   "metadata": {},
   "outputs": [],
   "source": [
    "b[0] = np.arange(1000,1010)"
   ]
  },
  {
   "cell_type": "code",
   "execution_count": 128,
   "id": "641907bf-f354-43c2-ba7f-c6a6d171566d",
   "metadata": {},
   "outputs": [
    {
     "data": {
      "text/plain": [
       "array([[1000, 1001, 1002, 1003, 1004, 1005, 1006, 1007, 1008, 1009],\n",
       "       [  40,   41,   42,   43,   44,   45,   46,   47,   48,   49],\n",
       "       [  50,   51,   52,   53,   54,   55,   56,   57,   58,   59],\n",
       "       [  60,   61,   62,   63,   64,   65,   66,   67,   68,   69]])"
      ]
     },
     "execution_count": 128,
     "metadata": {},
     "output_type": "execute_result"
    }
   ],
   "source": [
    "b"
   ]
  },
  {
   "cell_type": "code",
   "execution_count": 129,
   "id": "18c2d88b-6975-4cbe-bf28-395951a7afd9",
   "metadata": {},
   "outputs": [
    {
     "data": {
      "text/plain": [
       "array([[   0,    1,    2,    3,    4,    5,    6,    7,    8,    9],\n",
       "       [  10,   11,   12,   13,   14,   15,   16,   17,   18,   19],\n",
       "       [  20,   21,   22,   23,   24,   25,   26,   27,   28,   29],\n",
       "       [1000, 1001, 1002, 1003, 1004, 1005, 1006, 1007, 1008, 1009],\n",
       "       [  40,   41,   42,   43,   44,   45,   46,   47,   48,   49],\n",
       "       [  50,   51,   52,   53,   54,   55,   56,   57,   58,   59],\n",
       "       [  60,   61,   62,   63,   64,   65,   66,   67,   68,   69],\n",
       "       [  70,   71,   72,   73,   74,   75,   76,   77,   78,   79],\n",
       "       [  80,   81,   82,   83,   84,   85,   86,   87,   88,   89],\n",
       "       [  90,   91,   92,   93,   94,   95,   96,   97,   98,   99]])"
      ]
     },
     "execution_count": 129,
     "metadata": {},
     "output_type": "execute_result"
    }
   ],
   "source": [
    "a"
   ]
  },
  {
   "cell_type": "code",
   "execution_count": 130,
   "id": "61e1c08b-5211-4189-916f-3af5625b2e42",
   "metadata": {},
   "outputs": [
    {
     "data": {
      "text/plain": [
       "True"
      ]
     },
     "execution_count": 130,
     "metadata": {},
     "output_type": "execute_result"
    }
   ],
   "source": [
    "np.shares_memory(a,b)"
   ]
  },
  {
   "cell_type": "code",
   "execution_count": 131,
   "id": "9c90dbc0-0548-480d-8583-4aaa0f4da11f",
   "metadata": {},
   "outputs": [],
   "source": [
    "c = a[3:7].copy()"
   ]
  },
  {
   "cell_type": "code",
   "execution_count": 134,
   "id": "a8486d92-2197-462b-9003-08e75fa7c162",
   "metadata": {},
   "outputs": [],
   "source": [
    "c[0] = np.arange(100,110)"
   ]
  },
  {
   "cell_type": "code",
   "execution_count": 135,
   "id": "b78921cf-25e3-4363-9c6c-9a82e63b9140",
   "metadata": {},
   "outputs": [
    {
     "data": {
      "text/plain": [
       "array([[100, 101, 102, 103, 104, 105, 106, 107, 108, 109],\n",
       "       [ 40,  41,  42,  43,  44,  45,  46,  47,  48,  49],\n",
       "       [ 50,  51,  52,  53,  54,  55,  56,  57,  58,  59],\n",
       "       [ 60,  61,  62,  63,  64,  65,  66,  67,  68,  69]])"
      ]
     },
     "execution_count": 135,
     "metadata": {},
     "output_type": "execute_result"
    }
   ],
   "source": [
    "c"
   ]
  },
  {
   "cell_type": "code",
   "execution_count": 136,
   "id": "04fe45cf-20f1-493b-b4bf-fdd3acd7375a",
   "metadata": {},
   "outputs": [
    {
     "data": {
      "text/plain": [
       "array([[   0,    1,    2,    3,    4,    5,    6,    7,    8,    9],\n",
       "       [  10,   11,   12,   13,   14,   15,   16,   17,   18,   19],\n",
       "       [  20,   21,   22,   23,   24,   25,   26,   27,   28,   29],\n",
       "       [1000, 1001, 1002, 1003, 1004, 1005, 1006, 1007, 1008, 1009],\n",
       "       [  40,   41,   42,   43,   44,   45,   46,   47,   48,   49],\n",
       "       [  50,   51,   52,   53,   54,   55,   56,   57,   58,   59],\n",
       "       [  60,   61,   62,   63,   64,   65,   66,   67,   68,   69],\n",
       "       [  70,   71,   72,   73,   74,   75,   76,   77,   78,   79],\n",
       "       [  80,   81,   82,   83,   84,   85,   86,   87,   88,   89],\n",
       "       [  90,   91,   92,   93,   94,   95,   96,   97,   98,   99]])"
      ]
     },
     "execution_count": 136,
     "metadata": {},
     "output_type": "execute_result"
    }
   ],
   "source": [
    "a"
   ]
  },
  {
   "cell_type": "code",
   "execution_count": 137,
   "id": "703cc3c8-0232-4402-af05-812acaa83c31",
   "metadata": {},
   "outputs": [
    {
     "data": {
      "text/plain": [
       "False"
      ]
     },
     "execution_count": 137,
     "metadata": {},
     "output_type": "execute_result"
    }
   ],
   "source": [
    "np.shares_memory(a,c)"
   ]
  },
  {
   "cell_type": "code",
   "execution_count": 144,
   "id": "da8281dd-204c-4b5e-96dd-735aa464f1f3",
   "metadata": {},
   "outputs": [],
   "source": [
    "a[3:6,2:4] = np.arange(200,206).reshape((3,2))"
   ]
  },
  {
   "cell_type": "code",
   "execution_count": 142,
   "id": "fe025632-f727-477b-9a2e-ee377dd33693",
   "metadata": {},
   "outputs": [
    {
     "data": {
      "text/plain": [
       "array([[   0,    1,    2,    3,    4,    5,    6,    7,    8,    9],\n",
       "       [  10,   11,   12,   13,   14,   15,   16,   17,   18,   19],\n",
       "       [  20,   21,   22,   23,   24,   25,   26,   27,   28,   29],\n",
       "       [1000, 1001,  200,  201, 1004, 1005, 1006, 1007, 1008, 1009],\n",
       "       [  40,   41,  202,  203,   44,   45,   46,   47,   48,   49],\n",
       "       [  50,   51,  204,  205,   54,   55,   56,   57,   58,   59],\n",
       "       [  60,   61,   62,   63,   64,   65,   66,   67,   68,   69],\n",
       "       [  70,   71,   72,   73,   74,   75,   76,   77,   78,   79],\n",
       "       [  80,   81,   82,   83,   84,   85,   86,   87,   88,   89],\n",
       "       [  90,   91,   92,   93,   94,   95,   96,   97,   98,   99]])"
      ]
     },
     "execution_count": 142,
     "metadata": {},
     "output_type": "execute_result"
    }
   ],
   "source": [
    "a"
   ]
  },
  {
   "cell_type": "code",
   "execution_count": null,
   "id": "012e3e2d-5da2-4a0e-b8f2-dfec611b586b",
   "metadata": {},
   "outputs": [],
   "source": []
  },
  {
   "cell_type": "code",
   "execution_count": null,
   "id": "d3998960-3791-4b06-a265-2912c963c817",
   "metadata": {},
   "outputs": [],
   "source": []
  }
 ],
 "metadata": {
  "kernelspec": {
   "display_name": "Python 3 (ipykernel)",
   "language": "python",
   "name": "python3"
  },
  "language_info": {
   "codemirror_mode": {
    "name": "ipython",
    "version": 3
   },
   "file_extension": ".py",
   "mimetype": "text/x-python",
   "name": "python",
   "nbconvert_exporter": "python",
   "pygments_lexer": "ipython3",
   "version": "3.12.8"
  }
 },
 "nbformat": 4,
 "nbformat_minor": 5
}
