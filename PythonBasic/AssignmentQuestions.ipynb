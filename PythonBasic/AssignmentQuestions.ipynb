{
 "cells": [
  {
   "cell_type": "markdown",
   "id": "275d0ebe-8a34-4049-8c25-2dbcae2e77e5",
   "metadata": {},
   "source": [
    "## Print Series"
   ]
  },
  {
   "cell_type": "code",
   "execution_count": 3,
   "id": "bdff09c8-4a53-48f6-badd-44c74e2b7c23",
   "metadata": {},
   "outputs": [
    {
     "name": "stdin",
     "output_type": "stream",
     "text": [
      " 10\n",
      " 4\n"
     ]
    },
    {
     "name": "stdout",
     "output_type": "stream",
     "text": [
      "5\n",
      "11\n",
      "14\n",
      "17\n",
      "23\n",
      "26\n",
      "29\n",
      "35\n",
      "38\n",
      "41\n"
     ]
    }
   ],
   "source": [
    "N = int(input())\n",
    "N2 = int(input())\n",
    "i = 1\n",
    "t = 1\n",
    "while t<= N:\n",
    "    num = 3*i+2\n",
    "    if num % N2 != 0:\n",
    "        print(num)\n",
    "        t+=1\n",
    "    i += 1"
   ]
  },
  {
   "cell_type": "markdown",
   "id": "34c60d23-717c-4e49-8476-19f18252032c",
   "metadata": {},
   "source": [
    "## Count Digits"
   ]
  },
  {
   "cell_type": "code",
   "execution_count": 5,
   "id": "332fbf69-3939-4886-bf17-c294772b13db",
   "metadata": {},
   "outputs": [
    {
     "name": "stdin",
     "output_type": "stream",
     "text": [
      " 12335\n",
      " 3\n"
     ]
    },
    {
     "name": "stdout",
     "output_type": "stream",
     "text": [
      "2\n"
     ]
    }
   ],
   "source": [
    "N = int(input())\n",
    "d = int(input())\n",
    "count = 0\n",
    "while N != 0:\n",
    "    rem = N % 10\n",
    "    if rem == d:\n",
    "        count += 1\n",
    "    # print(rem)\n",
    "    N = N//10\n",
    "print(count)"
   ]
  },
  {
   "cell_type": "code",
   "execution_count": null,
   "id": "5e020e39-e993-4380-bd38-7a48f55d23c3",
   "metadata": {},
   "outputs": [],
   "source": []
  }
 ],
 "metadata": {
  "kernelspec": {
   "display_name": "Python 3 (ipykernel)",
   "language": "python",
   "name": "python3"
  },
  "language_info": {
   "codemirror_mode": {
    "name": "ipython",
    "version": 3
   },
   "file_extension": ".py",
   "mimetype": "text/x-python",
   "name": "python",
   "nbconvert_exporter": "python",
   "pygments_lexer": "ipython3",
   "version": "3.13.0"
  }
 },
 "nbformat": 4,
 "nbformat_minor": 5
}
