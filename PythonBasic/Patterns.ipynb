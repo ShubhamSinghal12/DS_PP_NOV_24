{
 "cells": [
  {
   "cell_type": "code",
   "execution_count": 7,
   "id": "312b517e-b58b-4fee-aea9-bddbafd21c4a",
   "metadata": {},
   "outputs": [
    {
     "name": "stdout",
     "output_type": "stream",
     "text": [
      "* * * * * \n",
      "* * * * * \n",
      "* * * * * \n",
      "* * * * * \n",
      "* * * * * \n"
     ]
    }
   ],
   "source": [
    "N = 5\n",
    "row = 1\n",
    "nst = N\n",
    "while row <= N:\n",
    "    cst = 1\n",
    "    while cst <= nst:\n",
    "        print('*',end = \" \")\n",
    "        cst+=1\n",
    "    print()\n",
    "    row += 1"
   ]
  },
  {
   "cell_type": "code",
   "execution_count": 8,
   "id": "adc90123-667f-4f99-aa3d-f11a3f450d62",
   "metadata": {},
   "outputs": [
    {
     "name": "stdout",
     "output_type": "stream",
     "text": [
      "* \n",
      "* * \n",
      "* * * \n",
      "* * * * \n",
      "* * * * * \n"
     ]
    }
   ],
   "source": [
    "N = 5\n",
    "row = 1\n",
    "nst = 1\n",
    "while row <= N:\n",
    "    cst = 1\n",
    "    while cst <= nst:\n",
    "        print('*',end = \" \")\n",
    "        cst+=1\n",
    "\n",
    "    nst += 1\n",
    "    print()\n",
    "    row += 1"
   ]
  },
  {
   "cell_type": "code",
   "execution_count": 9,
   "id": "e7ccccd5-7dfe-4d53-9b0f-17fa4af55c53",
   "metadata": {},
   "outputs": [
    {
     "name": "stdout",
     "output_type": "stream",
     "text": [
      "* * * * * \n",
      "* * * * \n",
      "* * * \n",
      "* * \n",
      "* \n"
     ]
    }
   ],
   "source": [
    "N = 5\n",
    "row = 1\n",
    "nst = N\n",
    "while row <= N:\n",
    "    cst = 1\n",
    "    while cst <= nst:\n",
    "        print('*',end = \" \")\n",
    "        cst+=1\n",
    "\n",
    "    nst -= 1\n",
    "    print()\n",
    "    row += 1"
   ]
  },
  {
   "cell_type": "code",
   "execution_count": 10,
   "id": "4fc86696-620d-47dd-8bdb-2198b916cda3",
   "metadata": {},
   "outputs": [
    {
     "name": "stdout",
     "output_type": "stream",
     "text": [
      "        * \n",
      "      * * \n",
      "    * * * \n",
      "  * * * * \n",
      "* * * * * \n"
     ]
    }
   ],
   "source": [
    "N = 5\n",
    "row = 1\n",
    "nst = 1\n",
    "nsp = N-1\n",
    "while row <= N:\n",
    "    csp = 1\n",
    "    while csp <= nsp:\n",
    "        print(\" \",end= \" \")\n",
    "        csp += 1\n",
    "    \n",
    "    cst = 1\n",
    "    while cst <= nst:\n",
    "        print('*',end = \" \")\n",
    "        cst+=1\n",
    "\n",
    "    nst += 1\n",
    "    nsp -= 1\n",
    "    print()\n",
    "    row += 1"
   ]
  },
  {
   "cell_type": "code",
   "execution_count": 12,
   "id": "237330bc-515b-4311-8a5e-6ae1c3f2793a",
   "metadata": {},
   "outputs": [
    {
     "name": "stdout",
     "output_type": "stream",
     "text": [
      "* * * * * \n",
      "    * * * * \n",
      "        * * * \n",
      "            * * \n",
      "                * \n"
     ]
    }
   ],
   "source": [
    "N = 5\n",
    "row = 1\n",
    "nst = N\n",
    "nsp = 0\n",
    "while row <= N:\n",
    "    csp = 1\n",
    "    while csp <= nsp:\n",
    "        print(\" \",end= \" \")\n",
    "        csp += 1\n",
    "    \n",
    "    cst = 1\n",
    "    while cst <= nst:\n",
    "        print('*',end = \" \")\n",
    "        cst+=1\n",
    "\n",
    "    nst -= 1\n",
    "    nsp += 2\n",
    "    print()\n",
    "    row += 1"
   ]
  },
  {
   "cell_type": "code",
   "execution_count": 14,
   "id": "2575bc86-4e02-4b20-ade7-9383ae7f2dba",
   "metadata": {},
   "outputs": [
    {
     "name": "stdout",
     "output_type": "stream",
     "text": [
      "        * \n",
      "      * * * \n",
      "    * * * * * \n",
      "  * * * * * * * \n",
      "* * * * * * * * * \n"
     ]
    }
   ],
   "source": [
    "N = 5\n",
    "row = 1\n",
    "nst = 1\n",
    "nsp = N-1\n",
    "while row <= N:\n",
    "    csp = 1\n",
    "    while csp <= nsp:\n",
    "        print(\" \",end= \" \")\n",
    "        csp += 1\n",
    "    \n",
    "    cst = 1\n",
    "    while cst <= nst:\n",
    "        print('*',end = \" \")\n",
    "        cst+=1\n",
    "\n",
    "    nst += 2\n",
    "    nsp -= 1\n",
    "    print()\n",
    "    row += 1"
   ]
  },
  {
   "cell_type": "code",
   "execution_count": 15,
   "id": "8464257c-823f-45bb-8cb5-3e2ff1187016",
   "metadata": {},
   "outputs": [
    {
     "name": "stdout",
     "output_type": "stream",
     "text": [
      "* * * * * * * * * \n",
      "  * * * * * * * \n",
      "    * * * * * \n",
      "      * * * \n",
      "        * \n"
     ]
    }
   ],
   "source": [
    "N = 5\n",
    "row = 1\n",
    "nst = 2*N-1\n",
    "nsp = 0\n",
    "while row <= N:\n",
    "    csp = 1\n",
    "    while csp <= nsp:\n",
    "        print(\" \",end= \" \")\n",
    "        csp += 1\n",
    "    \n",
    "    cst = 1\n",
    "    while cst <= nst:\n",
    "        print('*',end = \" \")\n",
    "        cst+=1\n",
    "\n",
    "    nst -= 2\n",
    "    nsp += 1\n",
    "    print()\n",
    "    row += 1"
   ]
  },
  {
   "cell_type": "code",
   "execution_count": 16,
   "id": "aea308f7-dd03-4ee2-8e31-d10859d3bd4c",
   "metadata": {},
   "outputs": [
    {
     "name": "stdout",
     "output_type": "stream",
     "text": [
      "        * \n",
      "      *   * \n",
      "    *   *   * \n",
      "  *   *   *   * \n",
      "*   *   *   *   * \n"
     ]
    }
   ],
   "source": [
    "N = 5\n",
    "row = 1\n",
    "nst = 1\n",
    "nsp = N-1\n",
    "while row <= N:\n",
    "    csp = 1\n",
    "    while csp <= nsp:\n",
    "        print(\" \",end= \" \")\n",
    "        csp += 1\n",
    "    \n",
    "    cst = 1\n",
    "    while cst <= nst:\n",
    "        if cst%2 == 0:\n",
    "            print(\" \",end=\" \")\n",
    "        else:\n",
    "            print('*',end = \" \")\n",
    "        cst+=1\n",
    "\n",
    "    nst += 2\n",
    "    nsp -= 1\n",
    "    print()\n",
    "    row += 1"
   ]
  },
  {
   "cell_type": "code",
   "execution_count": 17,
   "id": "1c73d1c2-1aeb-476d-ba18-8121a57e2107",
   "metadata": {},
   "outputs": [
    {
     "name": "stdout",
     "output_type": "stream",
     "text": [
      "* * * * * \n",
      "*       * \n",
      "*       * \n",
      "*       * \n",
      "* * * * * \n"
     ]
    }
   ],
   "source": [
    "N = 5\n",
    "row = 1\n",
    "nst = N\n",
    "while row <= N:\n",
    "    cst = 1\n",
    "    while cst <= nst:\n",
    "        if cst == 1 or cst == N or row == 1 or row == N:\n",
    "            print('*',end = \" \")\n",
    "        else:\n",
    "            print(\" \",end = \" \")\n",
    "        cst+=1\n",
    "    print()\n",
    "    row += 1"
   ]
  },
  {
   "cell_type": "code",
   "execution_count": 18,
   "id": "e6b70bb4-73e1-4a5b-9514-271946d2df92",
   "metadata": {},
   "outputs": [
    {
     "name": "stdout",
     "output_type": "stream",
     "text": [
      "* \n",
      "* * \n",
      "* * * \n",
      "* * * * \n",
      "* * * * * \n",
      "* * * * \n",
      "* * * \n",
      "* * \n",
      "* \n"
     ]
    }
   ],
   "source": [
    "N = 5\n",
    "row = 1\n",
    "nst = 1\n",
    "while row <= 2*N-1:\n",
    "    cst = 1\n",
    "    while cst <= nst:\n",
    "        print('*',end = \" \")\n",
    "        cst+=1\n",
    "\n",
    "    if row < N:\n",
    "        nst += 1\n",
    "    else:\n",
    "        nst -= 1\n",
    "    print()\n",
    "    row += 1"
   ]
  },
  {
   "cell_type": "code",
   "execution_count": 1,
   "id": "b5e13ad8-e026-41c4-856b-dc14ef018b17",
   "metadata": {},
   "outputs": [
    {
     "name": "stdout",
     "output_type": "stream",
     "text": [
      "        * \n",
      "      * * \n",
      "    * * * \n",
      "  * * * * \n",
      "* * * * * \n",
      "  * * * * \n",
      "    * * * \n",
      "      * * \n",
      "        * \n"
     ]
    }
   ],
   "source": [
    "N = 5\n",
    "row = 1\n",
    "nst = 1\n",
    "nsp = N-1\n",
    "\n",
    "while row <= 2*N-1:\n",
    "    csp = 1\n",
    "    while csp <= nsp:\n",
    "        print(\" \",end=\" \")\n",
    "        csp += 1\n",
    "    \n",
    "    cst = 1\n",
    "    while cst <= nst:\n",
    "        print(\"*\",end = \" \")\n",
    "        cst += 1\n",
    "\n",
    "    if row < N:\n",
    "        nst += 1\n",
    "        nsp -= 1\n",
    "    else:\n",
    "        nst -= 1\n",
    "        nsp += 1\n",
    "    print()\n",
    "    row += 1"
   ]
  },
  {
   "cell_type": "code",
   "execution_count": 2,
   "id": "6b7dc672-da28-438c-93ee-837ad863491f",
   "metadata": {},
   "outputs": [
    {
     "name": "stdout",
     "output_type": "stream",
     "text": [
      "* * * * * \n",
      "    * * * * \n",
      "        * * * \n",
      "            * * \n",
      "                * \n",
      "            * * \n",
      "        * * * \n",
      "    * * * * \n",
      "* * * * * \n"
     ]
    }
   ],
   "source": [
    "N = 5\n",
    "row = 1\n",
    "nst = N\n",
    "nsp = 0\n",
    "\n",
    "while row <= 2*N-1:\n",
    "    csp = 1\n",
    "    while csp <= nsp:\n",
    "        print(\" \",end=\" \")\n",
    "        csp += 1\n",
    "    \n",
    "    cst = 1\n",
    "    while cst <= nst:\n",
    "        print(\"*\",end = \" \")\n",
    "        cst += 1\n",
    "\n",
    "    if row < N:\n",
    "        nst -= 1\n",
    "        nsp += 2\n",
    "    else:\n",
    "        nst += 1\n",
    "        nsp -= 2\n",
    "    print()\n",
    "    row += 1"
   ]
  },
  {
   "cell_type": "code",
   "execution_count": 5,
   "id": "935ac358-4645-449f-bc68-7533c2079d04",
   "metadata": {},
   "outputs": [
    {
     "name": "stdout",
     "output_type": "stream",
     "text": [
      "                * * * * * * * * * \n",
      "              * * * * * * * * \n",
      "            * * * * * * * \n",
      "          * * * * * * \n",
      "        * * * * * \n",
      "      * * * * \n",
      "    * * * \n",
      "  * * \n",
      "* \n",
      "  * * \n",
      "    * * * \n",
      "      * * * * \n",
      "        * * * * * \n",
      "          * * * * * * \n",
      "            * * * * * * * \n",
      "              * * * * * * * * \n",
      "                * * * * * * * * * \n"
     ]
    }
   ],
   "source": [
    "N = 9\n",
    "row = 1\n",
    "nst = N\n",
    "nsp = N-1\n",
    "\n",
    "while row <= 2*N-1:\n",
    "    csp = 1\n",
    "    while csp <= nsp:\n",
    "        print(\" \",end=\" \")\n",
    "        csp += 1\n",
    "    \n",
    "    cst = 1\n",
    "    while cst <= nst:\n",
    "        print(\"*\",end = \" \")\n",
    "        cst += 1\n",
    "\n",
    "    if row < N:\n",
    "        nst -= 1\n",
    "        nsp -= 1\n",
    "    else:\n",
    "        nst += 1\n",
    "        nsp += 1\n",
    "    print()\n",
    "    row += 1"
   ]
  },
  {
   "cell_type": "code",
   "execution_count": 7,
   "id": "9aeef31a-4825-4c11-a41e-d70e28a319b6",
   "metadata": {},
   "outputs": [
    {
     "name": "stdout",
     "output_type": "stream",
     "text": [
      "* * * *   * * * * \n",
      "* * *       * * * \n",
      "* *           * * \n",
      "*               * \n",
      "                  \n",
      "*               * \n",
      "* *           * * \n",
      "* * *       * * * \n",
      "* * * *   * * * * \n"
     ]
    }
   ],
   "source": [
    "N = 9\n",
    "row = 1\n",
    "nsp = 1\n",
    "nst = N//2\n",
    "\n",
    "while row <= N:\n",
    "    cst = 1\n",
    "    while cst <= nst:\n",
    "        print(\"*\",end = \" \")\n",
    "        cst += 1\n",
    "\n",
    "    csp = 1\n",
    "    while csp <= nsp:\n",
    "        print(\" \",end =\" \")\n",
    "        csp += 1\n",
    "\n",
    "    cst = 1\n",
    "    while cst <= nst:\n",
    "        print(\"*\",end = \" \")\n",
    "        cst += 1\n",
    "\n",
    "    if row <= N//2:\n",
    "        nst -= 1\n",
    "        nsp += 2\n",
    "    else:\n",
    "        nst += 1\n",
    "        nsp -= 2\n",
    "\n",
    "    print()\n",
    "    row += 1"
   ]
  },
  {
   "cell_type": "code",
   "execution_count": 10,
   "id": "c12d806b-c59a-4290-b688-265a84aa16fa",
   "metadata": {},
   "outputs": [
    {
     "name": "stdout",
     "output_type": "stream",
     "text": [
      "* * * * * * * * * \n",
      "* * * *   * * * * \n",
      "* * *       * * * \n",
      "* *           * * \n",
      "*               * \n",
      "* *           * * \n",
      "* * *       * * * \n",
      "* * * *   * * * * \n",
      "* * * * * * * * * \n"
     ]
    }
   ],
   "source": [
    "N = 9\n",
    "row = 1\n",
    "nsp = -1\n",
    "nst = N//2 + 1\n",
    "\n",
    "while row <= N:\n",
    "    cst = 1\n",
    "    while cst <= nst:\n",
    "        print(\"*\",end = \" \")\n",
    "        cst += 1\n",
    "\n",
    "    csp = 1\n",
    "    while csp <= nsp:\n",
    "        print(\" \",end =\" \")\n",
    "        csp += 1\n",
    "\n",
    "    cst = 1\n",
    "    if row == 1 or row == N:\n",
    "        cst = 2\n",
    "    while cst <= nst:\n",
    "        print(\"*\",end = \" \")\n",
    "        cst += 1\n",
    "\n",
    "    if row <= N//2:\n",
    "        nst -= 1\n",
    "        nsp += 2\n",
    "    else:\n",
    "        nst += 1\n",
    "        nsp -= 2\n",
    "\n",
    "    print()\n",
    "    row += 1"
   ]
  },
  {
   "cell_type": "code",
   "execution_count": null,
   "id": "f2f9350a-1cd8-4b98-aca9-b3aabbb40d27",
   "metadata": {},
   "outputs": [],
   "source": []
  },
  {
   "cell_type": "code",
   "execution_count": 12,
   "id": "3491992c-1091-467a-8113-396a6baf4a57",
   "metadata": {},
   "outputs": [
    {
     "name": "stdout",
     "output_type": "stream",
     "text": [
      "        1 \n",
      "      1 1 1 \n",
      "    1 1 1 1 1 \n",
      "  1 1 1 1 1 1 1 \n",
      "1 1 1 1 1 1 1 1 1 \n"
     ]
    }
   ],
   "source": [
    "N = 5\n",
    "row = 1\n",
    "nst = 1\n",
    "nsp = N-1\n",
    "val = 1\n",
    "while row <= N:\n",
    "    csp = 1\n",
    "    while csp <= nsp:\n",
    "        print(\" \",end= \" \")\n",
    "        csp += 1\n",
    "\n",
    "    cval = val\n",
    "    cst = 1\n",
    "    while cst <= nst:\n",
    "        print(cval,end = \" \")\n",
    "        cst+=1\n",
    "\n",
    "    nst += 2\n",
    "    nsp -= 1\n",
    "    print()\n",
    "    row += 1"
   ]
  },
  {
   "cell_type": "code",
   "execution_count": 13,
   "id": "ca7263f6-d02c-4bb4-9030-b971b0a75734",
   "metadata": {},
   "outputs": [
    {
     "name": "stdout",
     "output_type": "stream",
     "text": [
      "        1 \n",
      "      2 2 2 \n",
      "    3 3 3 3 3 \n",
      "  4 4 4 4 4 4 4 \n",
      "5 5 5 5 5 5 5 5 5 \n"
     ]
    }
   ],
   "source": [
    "N = 5\n",
    "row = 1\n",
    "nst = 1\n",
    "nsp = N-1\n",
    "val = 1\n",
    "while row <= N:\n",
    "    csp = 1\n",
    "    while csp <= nsp:\n",
    "        print(\" \",end= \" \")\n",
    "        csp += 1\n",
    "\n",
    "    cval = val\n",
    "    cst = 1\n",
    "    while cst <= nst:\n",
    "        print(cval,end = \" \")\n",
    "        cst+=1\n",
    "\n",
    "    nst += 2\n",
    "    nsp -= 1\n",
    "    val += 1\n",
    "    print()\n",
    "    row += 1"
   ]
  },
  {
   "cell_type": "code",
   "execution_count": 14,
   "id": "b6c94174-841c-4250-b1d9-e153dd2c6483",
   "metadata": {},
   "outputs": [
    {
     "name": "stdout",
     "output_type": "stream",
     "text": [
      "        1 \n",
      "      2 3 4 \n",
      "    5 6 7 8 9 \n",
      "  10 11 12 13 14 15 16 \n",
      "17 18 19 20 21 22 23 24 25 \n"
     ]
    }
   ],
   "source": [
    "N = 5\n",
    "row = 1\n",
    "nst = 1\n",
    "nsp = N-1\n",
    "val = 1\n",
    "while row <= N:\n",
    "    csp = 1\n",
    "    while csp <= nsp:\n",
    "        print(\" \",end= \" \")\n",
    "        csp += 1\n",
    "\n",
    "    cval = val\n",
    "    cst = 1\n",
    "    while cst <= nst:\n",
    "        print(cval,end = \" \")\n",
    "        cst+=1\n",
    "        cval += 1\n",
    "\n",
    "    nst += 2\n",
    "    nsp -= 1\n",
    "    val = cval\n",
    "    print()\n",
    "    row += 1"
   ]
  },
  {
   "cell_type": "code",
   "execution_count": 15,
   "id": "8e77586e-9d78-47e5-acc6-d7e3c04cf724",
   "metadata": {},
   "outputs": [
    {
     "name": "stdout",
     "output_type": "stream",
     "text": [
      "        1 \n",
      "      1 2 3 \n",
      "    1 2 3 4 5 \n",
      "  1 2 3 4 5 6 7 \n",
      "1 2 3 4 5 6 7 8 9 \n"
     ]
    }
   ],
   "source": [
    "N = 5\n",
    "row = 1\n",
    "nst = 1\n",
    "nsp = N-1\n",
    "val = 1\n",
    "while row <= N:\n",
    "    csp = 1\n",
    "    while csp <= nsp:\n",
    "        print(\" \",end= \" \")\n",
    "        csp += 1\n",
    "\n",
    "    cval = val\n",
    "    cst = 1\n",
    "    while cst <= nst:\n",
    "        print(cval,end = \" \")\n",
    "        cst+=1\n",
    "        cval += 1\n",
    "\n",
    "    nst += 2\n",
    "    nsp -= 1\n",
    "    print()\n",
    "    row += 1"
   ]
  },
  {
   "cell_type": "code",
   "execution_count": 17,
   "id": "e72aaf64-9e88-4c30-82b0-e7aadd47d390",
   "metadata": {},
   "outputs": [
    {
     "name": "stdout",
     "output_type": "stream",
     "text": [
      "        1 \n",
      "      1 2 1 \n",
      "    1 2 3 2 1 \n",
      "  1 2 3 4 3 2 1 \n",
      "1 2 3 4 5 4 3 2 1 \n"
     ]
    }
   ],
   "source": [
    "N = 5\n",
    "row = 1\n",
    "nst = 1\n",
    "nsp = N-1\n",
    "val = 1\n",
    "while row <= N:\n",
    "    csp = 1\n",
    "    while csp <= nsp:\n",
    "        print(\" \",end= \" \")\n",
    "        csp += 1\n",
    "\n",
    "    cval = val\n",
    "    cst = 1\n",
    "    while cst <= nst:\n",
    "        print(cval,end = \" \")\n",
    "        if cst <= nst//2:\n",
    "            cval += 1\n",
    "        else:\n",
    "            cval -= 1\n",
    "        cst+=1\n",
    "\n",
    "    nst += 2\n",
    "    nsp -= 1\n",
    "    print()\n",
    "    row += 1"
   ]
  },
  {
   "cell_type": "code",
   "execution_count": 21,
   "id": "9897b7f2-cfe4-4ac1-89da-46f51ad47ba3",
   "metadata": {},
   "outputs": [
    {
     "name": "stdout",
     "output_type": "stream",
     "text": [
      "        1 \n",
      "      2 3 2 \n",
      "    3 4 5 4 3 \n",
      "  4 5 6 7 6 5 4 \n",
      "5 6 7 8 9 8 7 6 5 \n"
     ]
    }
   ],
   "source": [
    "N = 5\n",
    "row = 1\n",
    "nst = 1\n",
    "nsp = N-1\n",
    "val = 1\n",
    "while row <= N:\n",
    "    csp = 1\n",
    "    while csp <= nsp:\n",
    "        print(\" \",end= \" \")\n",
    "        csp += 1\n",
    "\n",
    "    cval = val\n",
    "    cst = 1\n",
    "    while cst <= nst:\n",
    "        print(cval,end = \" \")\n",
    "        if cst <= nst//2:\n",
    "            cval += 1\n",
    "        else:\n",
    "            cval -= 1\n",
    "        cst+=1\n",
    "\n",
    "    nst += 2\n",
    "    nsp -= 1\n",
    "    val += 1\n",
    "    print()\n",
    "    row += 1"
   ]
  },
  {
   "cell_type": "code",
   "execution_count": null,
   "id": "a93bc9ac-11db-4b9c-af54-e72957f943f4",
   "metadata": {},
   "outputs": [],
   "source": [
    "\n"
   ]
  }
 ],
 "metadata": {
  "kernelspec": {
   "display_name": "Python 3 (ipykernel)",
   "language": "python",
   "name": "python3"
  },
  "language_info": {
   "codemirror_mode": {
    "name": "ipython",
    "version": 3
   },
   "file_extension": ".py",
   "mimetype": "text/x-python",
   "name": "python",
   "nbconvert_exporter": "python",
   "pygments_lexer": "ipython3",
   "version": "3.13.0"
  }
 },
 "nbformat": 4,
 "nbformat_minor": 5
}
