{
 "cells": [
  {
   "cell_type": "markdown",
   "id": "257c4755-f3b0-487c-875e-33742170c1f8",
   "metadata": {},
   "source": [
    "## functions\n",
    "- defination\n",
    "- Memory management\n",
    "- parameters (Pass by Value)\n",
    "- return / Multiple Return\n",
    "- default arguments\n",
    "- keyword arguments\n",
    "- DocString (__doc__)\n",
    "- function as arguments\n",
    "- Anonymous Function\n",
    "- Recursion\n",
    "- Type Hints \n",
    "- Arbitrary arguments (*args and **kwargs) (After Built-in)\n",
    "- Function within function\n",
    "- Function Decorators"
   ]
  },
  {
   "cell_type": "code",
   "execution_count": 76,
   "id": "c5347ef7-df99-4381-9798-a5d7958aaf0c",
   "metadata": {},
   "outputs": [],
   "source": [
    "def add(a:int, b:int) -> int :\n",
    "    c = a+b\n",
    "    return c\n",
    "\n",
    "def add_sub(a,b,/,*,p,q=30):\n",
    "    c = a+b\n",
    "    d = p-q\n",
    "    return c,d\n",
    "\n",
    "def sub(a):\n",
    "    b = 200\n",
    "    c = a-b\n",
    "    print(c)"
   ]
  },
  {
   "cell_type": "code",
   "execution_count": 47,
   "id": "a00d2567-ca97-4280-8e9e-d4837f499492",
   "metadata": {},
   "outputs": [
    {
     "name": "stdout",
     "output_type": "stream",
     "text": [
      "30 50\n",
      "800\n",
      "1000\n"
     ]
    }
   ],
   "source": [
    "c,d = add_sub(10,20,p=80)\n",
    "print(c,d)\n",
    "sub(1000)\n",
    "print(n)"
   ]
  },
  {
   "cell_type": "code",
   "execution_count": 4,
   "id": "5a37f688-4132-4741-a0b7-d6455d950bc2",
   "metadata": {},
   "outputs": [
    {
     "data": {
      "text/plain": [
       "(<function __main__.add()>, function, 2020928297280)"
      ]
     },
     "execution_count": 4,
     "metadata": {},
     "output_type": "execute_result"
    }
   ],
   "source": [
    "add,type(add),id(add)"
   ]
  },
  {
   "cell_type": "code",
   "execution_count": 5,
   "id": "6952b4c0-d413-455b-acdb-819145f1a71b",
   "metadata": {},
   "outputs": [
    {
     "name": "stdout",
     "output_type": "stream",
     "text": [
      "<function add at 0x000001D688B69940>\n"
     ]
    }
   ],
   "source": [
    "print(add)"
   ]
  },
  {
   "cell_type": "code",
   "execution_count": 6,
   "id": "d9a8e72f-4cf2-4a26-81d4-15b5c9e11685",
   "metadata": {},
   "outputs": [
    {
     "data": {
      "text/plain": [
       "10"
      ]
     },
     "execution_count": 6,
     "metadata": {},
     "output_type": "execute_result"
    }
   ],
   "source": [
    "add = 10\n",
    "add"
   ]
  },
  {
   "cell_type": "code",
   "execution_count": 3,
   "id": "84e2bf39-c3a8-44bd-a232-27da10f28786",
   "metadata": {},
   "outputs": [],
   "source": [
    "n = 1000"
   ]
  },
  {
   "cell_type": "code",
   "execution_count": 48,
   "id": "360bc7f1-05e2-4719-9222-34a72b06fcf9",
   "metadata": {},
   "outputs": [],
   "source": [
    "import math"
   ]
  },
  {
   "cell_type": "code",
   "execution_count": 49,
   "id": "cea7e21e-b3ab-416a-be75-562417d9ef8f",
   "metadata": {},
   "outputs": [
    {
     "data": {
      "text/plain": [
       "10"
      ]
     },
     "execution_count": 49,
     "metadata": {},
     "output_type": "execute_result"
    }
   ],
   "source": [
    "math.floor(10.6)"
   ]
  },
  {
   "cell_type": "markdown",
   "id": "853a7ae6-38b7-4a5c-994c-b0f8b4b4fb11",
   "metadata": {},
   "source": []
  },
  {
   "cell_type": "code",
   "execution_count": 50,
   "id": "01c26ad4-3d6d-4867-9342-ccb5ec918887",
   "metadata": {},
   "outputs": [],
   "source": [
    "def fn():\n",
    "    \"This is a demo Function for DocString\""
   ]
  },
  {
   "cell_type": "code",
   "execution_count": 51,
   "id": "83721eff-25f6-41d9-b3cf-17fc8c9f511c",
   "metadata": {},
   "outputs": [
    {
     "data": {
      "text/plain": [
       "'This is a demo Function for DocString'"
      ]
     },
     "execution_count": 51,
     "metadata": {},
     "output_type": "execute_result"
    }
   ],
   "source": [
    "fn.__doc__"
   ]
  },
  {
   "cell_type": "code",
   "execution_count": null,
   "id": "2560267c-f5e6-4689-b8ab-93546e1a2920",
   "metadata": {},
   "outputs": [],
   "source": []
  },
  {
   "cell_type": "code",
   "execution_count": null,
   "id": "f757bd8f-b3c9-49db-8d97-0d7ed209d02b",
   "metadata": {},
   "outputs": [],
   "source": []
  },
  {
   "cell_type": "code",
   "execution_count": 54,
   "id": "3c875a1a-ff3f-4944-9268-dfa2c1bff463",
   "metadata": {},
   "outputs": [],
   "source": [
    "def add(a,b):\n",
    "    return a+b\n",
    "def sub(a,b):\n",
    "    return a-b"
   ]
  },
  {
   "cell_type": "code",
   "execution_count": 53,
   "id": "68b91e52-ead9-4e67-853f-1baaf8ff3db0",
   "metadata": {},
   "outputs": [],
   "source": [
    "def cal(fn,a=10,b=20):\n",
    "    val = fn(a,b)\n",
    "    return val"
   ]
  },
  {
   "cell_type": "code",
   "execution_count": 61,
   "id": "fcfaa9fc-0a2d-4cb5-a269-834b1e61cb3f",
   "metadata": {},
   "outputs": [
    {
     "data": {
      "text/plain": [
       "10"
      ]
     },
     "execution_count": 61,
     "metadata": {},
     "output_type": "execute_result"
    }
   ],
   "source": [
    "cal(lambda a,b: a-b,20,10)"
   ]
  },
  {
   "cell_type": "code",
   "execution_count": 58,
   "id": "786b6d17-a5a3-43e3-8568-16149929b7bf",
   "metadata": {},
   "outputs": [],
   "source": [
    "sub = lambda a,b: a-b"
   ]
  },
  {
   "cell_type": "code",
   "execution_count": 59,
   "id": "3f0d8f74-67f8-4407-b5dd-5496e436358f",
   "metadata": {},
   "outputs": [
    {
     "data": {
      "text/plain": [
       "-10"
      ]
     },
     "execution_count": 59,
     "metadata": {},
     "output_type": "execute_result"
    }
   ],
   "source": [
    "sub(10,20)"
   ]
  },
  {
   "cell_type": "code",
   "execution_count": 63,
   "id": "7ce21b0f-c0f6-4e10-a414-66277f0d7ca9",
   "metadata": {},
   "outputs": [
    {
     "data": {
      "text/plain": [
       "2.0"
      ]
     },
     "execution_count": 63,
     "metadata": {},
     "output_type": "execute_result"
    }
   ],
   "source": [
    "cal(lambda a,b: a/b,20,10)"
   ]
  },
  {
   "cell_type": "code",
   "execution_count": 67,
   "id": "bd5846bb-48e9-4038-a61f-adbf5979572a",
   "metadata": {},
   "outputs": [],
   "source": [
    "n = 1000"
   ]
  },
  {
   "cell_type": "code",
   "execution_count": 68,
   "id": "b73e5d58-c813-4831-8e8e-dc13c4fc3c8a",
   "metadata": {},
   "outputs": [],
   "source": [
    "def fn():\n",
    "    n = 100\n",
    "    print(n)"
   ]
  },
  {
   "cell_type": "code",
   "execution_count": 69,
   "id": "246063a8-fa6d-420e-ac3f-889715b4e100",
   "metadata": {},
   "outputs": [
    {
     "name": "stdout",
     "output_type": "stream",
     "text": [
      "100\n",
      "1000\n"
     ]
    }
   ],
   "source": [
    "fn()\n",
    "print(n)"
   ]
  },
  {
   "cell_type": "code",
   "execution_count": null,
   "id": "c657b1a0-27ed-4d7a-a983-39b1d62750b3",
   "metadata": {},
   "outputs": [],
   "source": []
  },
  {
   "cell_type": "code",
   "execution_count": 70,
   "id": "366233fc-885f-42e4-9776-f9e05a1a668f",
   "metadata": {},
   "outputs": [],
   "source": [
    "def fact(n):\n",
    "    if n==1:\n",
    "        return n\n",
    "    else:\n",
    "        return n*fact(n-1)"
   ]
  },
  {
   "cell_type": "code",
   "execution_count": 71,
   "id": "5747cfd1-bfce-4b3a-9ebe-6d2f32945bce",
   "metadata": {},
   "outputs": [
    {
     "data": {
      "text/plain": [
       "3628800"
      ]
     },
     "execution_count": 71,
     "metadata": {},
     "output_type": "execute_result"
    }
   ],
   "source": [
    "fact(10)"
   ]
  },
  {
   "cell_type": "code",
   "execution_count": null,
   "id": "13fb31f3-b701-49bc-9115-aef0a753488a",
   "metadata": {},
   "outputs": [],
   "source": []
  },
  {
   "cell_type": "code",
   "execution_count": 72,
   "id": "feeec8e9-cab1-4e32-9f83-8b69322de851",
   "metadata": {},
   "outputs": [],
   "source": [
    "def fn1():\n",
    "    print(\"Hello\")\n",
    "    def fn2():\n",
    "        print(\"In fn2\")\n",
    "    print(\"Bye\")"
   ]
  },
  {
   "cell_type": "code",
   "execution_count": null,
   "id": "1eb742b8-a415-4a88-baa5-0c5a44a6ab92",
   "metadata": {},
   "outputs": [],
   "source": []
  },
  {
   "cell_type": "code",
   "execution_count": 78,
   "id": "d641464c-c83f-4047-bf63-6928aa669bf1",
   "metadata": {},
   "outputs": [],
   "source": [
    "def count_digits(num : int) -> int:\n",
    "    return int(math.log10(num))+1"
   ]
  },
  {
   "cell_type": "code",
   "execution_count": 79,
   "id": "6d651e9a-7a50-4259-a3d8-b2dae23a3508",
   "metadata": {},
   "outputs": [],
   "source": [
    "def isArmStrong(num: int) -> bool:\n",
    "    temp = num\n",
    "    nod = count_digits(num)\n",
    "    sum = 0\n",
    "    while temp != 0:\n",
    "        rem = temp%10\n",
    "        sum += rem**nod\n",
    "\n",
    "        temp = temp//10\n",
    "    return sum == num"
   ]
  },
  {
   "cell_type": "code",
   "execution_count": 90,
   "id": "643e2ded-eaab-468f-8610-0c94a5245ddf",
   "metadata": {},
   "outputs": [],
   "source": [
    "def printAllArmStrong(l:int = 1,r:int = 1000) -> None:\n",
    "    i = l\n",
    "    while i <= r:\n",
    "        if isArmStrong(i):\n",
    "            print(i)\n",
    "        i += 1"
   ]
  },
  {
   "cell_type": "code",
   "execution_count": 91,
   "id": "02a264b3-daad-40c1-b511-97653ef43d4b",
   "metadata": {},
   "outputs": [
    {
     "name": "stdout",
     "output_type": "stream",
     "text": [
      "1\n",
      "2\n",
      "3\n",
      "4\n",
      "5\n",
      "6\n",
      "7\n",
      "8\n",
      "9\n",
      "153\n",
      "370\n",
      "371\n",
      "407\n"
     ]
    }
   ],
   "source": [
    "printAllArmStrong(1,1000)"
   ]
  },
  {
   "cell_type": "code",
   "execution_count": null,
   "id": "0c78e700-3305-4414-9f6c-1fa237d5337c",
   "metadata": {},
   "outputs": [],
   "source": []
  },
  {
   "cell_type": "code",
   "execution_count": null,
   "id": "82b3861f-dc41-486e-a76c-244a4729733a",
   "metadata": {},
   "outputs": [],
   "source": []
  }
 ],
 "metadata": {
  "kernelspec": {
   "display_name": "Python 3 (ipykernel)",
   "language": "python",
   "name": "python3"
  },
  "language_info": {
   "codemirror_mode": {
    "name": "ipython",
    "version": 3
   },
   "file_extension": ".py",
   "mimetype": "text/x-python",
   "name": "python",
   "nbconvert_exporter": "python",
   "pygments_lexer": "ipython3",
   "version": "3.13.0"
  }
 },
 "nbformat": 4,
 "nbformat_minor": 5
}
