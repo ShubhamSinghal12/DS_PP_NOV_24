{
 "cells": [
  {
   "cell_type": "code",
   "execution_count": 1,
   "id": "792deb7e-2977-4257-a319-514bdefdfeaa",
   "metadata": {},
   "outputs": [],
   "source": [
    "import numpy as np"
   ]
  },
  {
   "cell_type": "code",
   "execution_count": 2,
   "id": "5621fa65-da01-42e2-8c61-143df8c3d084",
   "metadata": {},
   "outputs": [],
   "source": [
    "m1 = np.array([[1,2,3,4],[0,2,1,3],[2,0,0,1]])\n",
    "m2 = np.array([[1,1],[2,0],[3,0],[4,1]])"
   ]
  },
  {
   "cell_type": "code",
   "execution_count": 3,
   "id": "6f4d41e9-eaba-4d29-a058-b37cf1dc5c14",
   "metadata": {},
   "outputs": [
    {
     "data": {
      "text/plain": [
       "array([[1, 2, 3, 4],\n",
       "       [0, 2, 1, 3],\n",
       "       [2, 0, 0, 1]])"
      ]
     },
     "execution_count": 3,
     "metadata": {},
     "output_type": "execute_result"
    }
   ],
   "source": [
    "m1"
   ]
  },
  {
   "cell_type": "code",
   "execution_count": 4,
   "id": "0a276712-3023-46ad-8260-37031c7db86a",
   "metadata": {},
   "outputs": [
    {
     "data": {
      "text/plain": [
       "array([[1, 1],\n",
       "       [2, 0],\n",
       "       [3, 0],\n",
       "       [4, 1]])"
      ]
     },
     "execution_count": 4,
     "metadata": {},
     "output_type": "execute_result"
    }
   ],
   "source": [
    "m2"
   ]
  },
  {
   "cell_type": "code",
   "execution_count": 5,
   "id": "04679c9f-3247-4983-9750-15ef501711a1",
   "metadata": {},
   "outputs": [
    {
     "data": {
      "text/plain": [
       "array([[30,  5],\n",
       "       [19,  3],\n",
       "       [ 6,  3]])"
      ]
     },
     "execution_count": 5,
     "metadata": {},
     "output_type": "execute_result"
    }
   ],
   "source": [
    "np.dot(m1,m2)"
   ]
  },
  {
   "cell_type": "code",
   "execution_count": 6,
   "id": "f0127fa7-e459-44d8-966a-7e77213a5741",
   "metadata": {},
   "outputs": [
    {
     "data": {
      "text/plain": [
       "array([[30,  5],\n",
       "       [19,  3],\n",
       "       [ 6,  3]])"
      ]
     },
     "execution_count": 6,
     "metadata": {},
     "output_type": "execute_result"
    }
   ],
   "source": [
    "m1@m2"
   ]
  },
  {
   "cell_type": "code",
   "execution_count": 7,
   "id": "06a423d6-71e8-494d-b445-b848da8fd912",
   "metadata": {},
   "outputs": [
    {
     "data": {
      "text/plain": [
       "array([[30,  5],\n",
       "       [19,  3],\n",
       "       [ 6,  3]])"
      ]
     },
     "execution_count": 7,
     "metadata": {},
     "output_type": "execute_result"
    }
   ],
   "source": [
    "np.matmul(m1,m2)"
   ]
  },
  {
   "cell_type": "code",
   "execution_count": 14,
   "id": "40189d5d-8fe4-4d00-94e6-23eac2cb5aad",
   "metadata": {},
   "outputs": [
    {
     "data": {
      "text/plain": [
       "(3, 4, 1)"
      ]
     },
     "execution_count": 14,
     "metadata": {},
     "output_type": "execute_result"
    }
   ],
   "source": [
    "m3 = m1.reshape((1,3,4))\n",
    "np.transpose(m3,axes=(1,2,0)).shape"
   ]
  },
  {
   "cell_type": "code",
   "execution_count": 9,
   "id": "28d6e105-8064-4412-9f39-1c34e76eb5ae",
   "metadata": {},
   "outputs": [
    {
     "data": {
      "text/plain": [
       "array([[1, 0, 2],\n",
       "       [2, 2, 0],\n",
       "       [3, 1, 0],\n",
       "       [4, 3, 1]])"
      ]
     },
     "execution_count": 9,
     "metadata": {},
     "output_type": "execute_result"
    }
   ],
   "source": [
    "m1.T"
   ]
  },
  {
   "cell_type": "code",
   "execution_count": 19,
   "id": "a11df790-d8b4-4f6e-b57f-61d734de0bc8",
   "metadata": {
    "scrolled": true
   },
   "outputs": [
    {
     "data": {
      "text/plain": [
       "np.float64(-7.999999999999998)"
      ]
     },
     "execution_count": 19,
     "metadata": {},
     "output_type": "execute_result"
    }
   ],
   "source": [
    "np.linalg.det(m1[:,:-1])"
   ]
  },
  {
   "cell_type": "code",
   "execution_count": 22,
   "id": "db2d8289-f0dc-49f8-8540-7634880bd4ae",
   "metadata": {},
   "outputs": [
    {
     "data": {
      "text/plain": [
       "array([[ 0.   ,  0.   ,  0.5  ],\n",
       "       [-0.25 ,  0.75 ,  0.125],\n",
       "       [ 0.5  , -0.5  , -0.25 ]])"
      ]
     },
     "execution_count": 22,
     "metadata": {},
     "output_type": "execute_result"
    }
   ],
   "source": [
    "np.linalg.inv(m1[:,:-1])"
   ]
  },
  {
   "cell_type": "code",
   "execution_count": 25,
   "id": "8cb0003a-aec5-498a-b789-3264f7c93a10",
   "metadata": {},
   "outputs": [],
   "source": [
    "eq = np.array([[3,3],[2,4]])\n",
    "sol = np.array([8,5])"
   ]
  },
  {
   "cell_type": "code",
   "execution_count": 26,
   "id": "528f2bb3-7194-4209-ad70-5db99797c3ce",
   "metadata": {},
   "outputs": [
    {
     "data": {
      "text/plain": [
       "array([ 2.83333333, -0.16666667])"
      ]
     },
     "execution_count": 26,
     "metadata": {},
     "output_type": "execute_result"
    }
   ],
   "source": [
    "np.linalg.solve(eq,sol)"
   ]
  },
  {
   "cell_type": "code",
   "execution_count": null,
   "id": "22a32703-920a-43c0-b548-3a52375c6fe5",
   "metadata": {},
   "outputs": [],
   "source": []
  },
  {
   "cell_type": "code",
   "execution_count": 2,
   "id": "6a6d79e0-bcc6-464b-abaf-6c1bee0ff57a",
   "metadata": {},
   "outputs": [],
   "source": [
    "import seaborn as sns\n",
    "import matplotlib.pyplot as plt\n",
    "import numpy as np"
   ]
  },
  {
   "cell_type": "code",
   "execution_count": 3,
   "id": "36e5861d-9598-4cbd-8a7e-f8cb10175b32",
   "metadata": {},
   "outputs": [],
   "source": [
    "iris = sns.load_dataset('iris')"
   ]
  },
  {
   "cell_type": "code",
   "execution_count": 10,
   "id": "56f015da-daba-4574-a34e-f91813b236e7",
   "metadata": {},
   "outputs": [],
   "source": [
    "setosa = iris[iris['species']=='setosa']"
   ]
  },
  {
   "cell_type": "code",
   "execution_count": 14,
   "id": "c77c5d68-2df2-471b-9eed-5c85d2a11c73",
   "metadata": {},
   "outputs": [],
   "source": [
    "counts,bin_edge = np.histogram(setosa['petal_length'])"
   ]
  },
  {
   "cell_type": "code",
   "execution_count": 18,
   "id": "e4817580-2720-46be-9916-90bb9d9c68e5",
   "metadata": {},
   "outputs": [
    {
     "data": {
      "image/png": "[encoded data removed]",
      "text/plain": [
       "<Figure size 640x480 with 1 Axes>"
      ]
     },
     "metadata": {},
     "output_type": "display_data"
    }
   ],
   "source": [
    "pdf = counts/np.sum(counts)\n",
    "cdf = np.cumsum(pdf)\n",
    "plt.plot(bin_edge[:-1],pdf)\n",
    "plt.plot(bin_edge[:-1],cdf)\n",
    "plt.show()"
   ]
  },
  {
   "cell_type": "code",
   "execution_count": null,
   "id": "39fe78d2-0cfd-4f44-9880-7e8fa66c2153",
   "metadata": {},
   "outputs": [],
   "source": []
  }
 ],
 "metadata": {
  "kernelspec": {
   "display_name": "Python 3 (ipykernel)",
   "language": "python",
   "name": "python3"
  },
  "language_info": {
   "codemirror_mode": {
    "name": "ipython",
    "version": 3
   },
   "file_extension": ".py",
   "mimetype": "text/x-python",
   "name": "python",
   "nbconvert_exporter": "python",
   "pygments_lexer": "ipython3",
   "version": "3.12.8"
  }
 },
 "nbformat": 4,
 "nbformat_minor": 5
}
